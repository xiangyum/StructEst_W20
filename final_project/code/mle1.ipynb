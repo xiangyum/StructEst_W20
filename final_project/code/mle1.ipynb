{
 "cells": [
  {
   "cell_type": "code",
   "execution_count": 2,
   "metadata": {},
   "outputs": [],
   "source": [
    "import pandas as pd\n",
    "import numpy as np\n",
    "import math \n",
    "import scipy.optimize as opt\n",
    "import pipeline as pxy"
   ]
  },
  {
   "cell_type": "code",
   "execution_count": 3,
   "metadata": {},
   "outputs": [],
   "source": [
    "dfs = pxy.prepare_data(\"processed_noed.csv\")"
   ]
  },
  {
   "cell_type": "code",
   "execution_count": 4,
   "metadata": {},
   "outputs": [],
   "source": [
    "df, mdf, wdf = dfs"
   ]
  },
  {
   "cell_type": "code",
   "execution_count": 5,
   "metadata": {},
   "outputs": [],
   "source": [
    "# I'll compare two age groups: pre- and during college, and post-college."
   ]
  },
  {
   "cell_type": "code",
   "execution_count": 6,
   "metadata": {},
   "outputs": [],
   "source": [
    "df1 = df.loc[df.age_ms <=21,:].copy()\n",
    "mdf1 = mdf.loc[mdf.age_ms <=21,:].copy()\n",
    "wdf1 = wdf.loc[wdf.age_ms <=21,:].copy()\n",
    "df2 = df.loc[df.age_ms >21,:].copy()\n",
    "mdf2 = mdf.loc[mdf.age_ms >21,:].copy()\n",
    "wdf2 = wdf.loc[wdf.age_ms >21,:].copy()"
   ]
  },
  {
   "cell_type": "code",
   "execution_count": 7,
   "metadata": {},
   "outputs": [
    {
     "data": {
      "text/plain": [
       "833"
      ]
     },
     "execution_count": 7,
     "metadata": {},
     "output_type": "execute_result"
    }
   ],
   "source": [
    "len(df2)"
   ]
  },
  {
   "cell_type": "code",
   "execution_count": 55,
   "metadata": {},
   "outputs": [],
   "source": [
    "values_wanted = [len(df), \n",
    "                 len(mdf), \n",
    "                 len(wdf), \n",
    "                 df.married_status.value_counts()[1],\n",
    "                 np.mean(df.age_ms),\n",
    "                 np.mean(df.wage_ms),\n",
    "                 np.mean(df.t_single),\n",
    "                 np.mean(df.t_married)\n",
    "                ]\n",
    "\n",
    "values_wanted2 = [len(df1), \n",
    "                 len(mdf1), \n",
    "                 len(wdf1), \n",
    "                 df1.married_status.value_counts()[1],\n",
    "                 np.mean(df1.age_ms),\n",
    "                 np.mean(df1.wage_ms),\n",
    "                 np.mean(df1.t_single),\n",
    "                 np.mean(df1.t_married)\n",
    "                ]\n",
    "\n",
    "values_wanted3 = [len(df2), \n",
    "                 len(mdf2), \n",
    "                 len(wdf2), \n",
    "                 df2.married_status.value_counts()[1],\n",
    "                 np.mean(df2.age_ms),\n",
    "                 np.mean(df2.wage_ms),\n",
    "                 np.mean(df2.t_single),\n",
    "                 np.mean(df2.t_married)\n",
    "                ]"
   ]
  },
  {
   "cell_type": "code",
   "execution_count": 58,
   "metadata": {},
   "outputs": [
    {
     "name": "stdout",
     "output_type": "stream",
     "text": [
      "\\begin{tabular}{lrrr}\n",
      "\\toprule\n",
      "              Variable &   Total &  Married While Young &  Married While Older \\\\\n",
      "\\midrule\n",
      "        No. of Persons &  1400.0 &                567.0 &                833.0 \\\\\n",
      "            No. of Men &   647.0 &                200.0 &                447.0 \\\\\n",
      "          No. of Women &   753.0 &                367.0 &                386.0 \\\\\n",
      "        No. of Married &   931.0 &                345.0 &                586.0 \\\\\n",
      "      Mean Age Married &    24.0 &                 19.5 &                 27.0 \\\\\n",
      " Mean Wage at Marriage &     3.7 &                  2.6 &                  4.4 \\\\\n",
      "      Mean single-time &     9.0 &                  4.5 &                 12.0 \\\\\n",
      "     Mean married-time &    19.1 &                 18.1 &                 19.8 \\\\\n",
      "\\bottomrule\n",
      "\\end{tabular}\n",
      "\n"
     ]
    }
   ],
   "source": [
    "sumDF = pd.DataFrame({\"Variable\": [\"No. of Persons\", \n",
    "                                  \"No. of Men\",\n",
    "                                  \"No. of Women\",\n",
    "                                  \"No. of Married\",\n",
    "                                  \"Mean Age Married\",\n",
    "                                 \"Mean Wage at Marriage\",\n",
    "                                 \"Mean single-time\",\n",
    "                                 \"Mean married-time\"],\n",
    "                    \"Total\": values_wanted,\n",
    "                     \"Married While Young\": values_wanted2,\n",
    "                     \"Married While Older\": values_wanted3})\n",
    "print(sumDF.round(1).to_latex(index = False))"
   ]
  },
  {
   "cell_type": "markdown",
   "metadata": {},
   "source": [
    "# Summary Statistics:\n",
    "\n",
    "I want the following: \n",
    "1. Count "
   ]
  },
  {
   "cell_type": "code",
   "execution_count": 10,
   "metadata": {},
   "outputs": [],
   "source": [
    "def prepare_data(fn):\n",
    "    # reads a fn\n",
    "    # outputs a tuple containing df, mdf, and wdf\n",
    "    df = pd.read_csv(fn)\n",
    "    df[\"married_status\"] = 0\n",
    "    df.loc[df.year_ended > 1993, \"married_status\"] = 1.0\n",
    "    df[\"t_single\"] = df[\"age_ms\"] - 15\n",
    "    df[\"t_married\"] = df[\"age_me\"] -  df[\"age_ms\"]    \n",
    "\n",
    "    df.loc[df.t_married > 25,\"t_married\"]= 25\n",
    "\n",
    "    df = df.loc[df.t_married >0,:].copy()\n",
    "    df['z_raw'] = np.exp(df.wage_ms)\n",
    "    # df[\"z\"] = pd.qcut(df.z_raw, q = 7, duplicates= \"drop\", labels =[1,2,3,4,5,6,7])\n",
    "    mdf = df.loc[df.gender ==1, :].copy().reset_index()\n",
    "    wdf = df.loc[df.gender ==0, :].copy().reset_index()\n",
    "    mdf[\"z\"], bins_mz = pd.qcut(mdf.z_raw, q = 5, labels =[1,2,3,4,5], retbins=True)\n",
    "    wdf[\"z\"], bins_wz = pd.qcut(wdf.z_raw, q = 5, labels =[1,2,3,4,5], retbins=True)\n",
    "\n",
    "    mdf[\"x\"] = np.nan\n",
    "    mdf.loc[mdf.z == 1, \"x\"] = np.median(mdf.loc[mdf.z==1, \"z_raw\"])\n",
    "    mdf.loc[mdf.z == 2, \"x\"] = np.median(mdf.loc[mdf.z==2, \"z_raw\"])\n",
    "    mdf.loc[mdf.z == 3, \"x\"] = np.median(mdf.loc[mdf.z==3, \"z_raw\"])\n",
    "    mdf.loc[mdf.z == 4, \"x\"] = np.median(mdf.loc[mdf.z==4, \"z_raw\"])\n",
    "    mdf.loc[mdf.z == 5, \"x\"] = np.median(mdf.loc[mdf.z==5, \"z_raw\"])\n",
    "\n",
    "    wdf[\"x\"] = np.nan\n",
    "    wdf.loc[wdf.z == 1, \"x\"] = np.median(wdf.loc[wdf.z==1, \"z_raw\"])\n",
    "    wdf.loc[wdf.z == 2, \"x\"] = np.median(wdf.loc[wdf.z==2, \"z_raw\"])\n",
    "    wdf.loc[wdf.z == 3, \"x\"] = np.median(wdf.loc[wdf.z==3, \"z_raw\"])\n",
    "    wdf.loc[wdf.z == 4, \"x\"] = np.median(wdf.loc[wdf.z==4, \"z_raw\"])\n",
    "    wdf.loc[wdf.z == 5, \"x\"] = np.median(wdf.loc[wdf.z==5, \"z_raw\"])\n",
    "\n",
    "    # assign partner's z & x\n",
    "\n",
    "    partnerDF = pd.DataFrame({\"i_type\": list(wdf[\"z\"].drop_duplicates().sort_values()),\n",
    "                             \"x\": list(wdf[\"x\"].drop_duplicates().sort_values())})\n",
    "    for index, row in partnerDF.iterrows():\n",
    "        lb = bins_wz[index]\n",
    "        ub = bins_wz[index + 1]\n",
    "        if index == 0:\n",
    "            lb = -0.01\n",
    "        partnerDF.loc[index, \"lb\"] = lb\n",
    "        partnerDF.loc[index, \"ub\"] = ub\n",
    "\n",
    "    mdf[\"partner_z\"] = np.nan\n",
    "    mdf[\"partner_x\"] = np.nan\n",
    "\n",
    "    for index, row in mdf.iterrows():\n",
    "        temp_wage = row[\"partnerwage_ms\"]\n",
    "        temp_z = np.exp(temp_wage)\n",
    "        temp = partnerDF.loc[(partnerDF.lb < temp_z) & (partnerDF.ub >= temp_z),[\"i_type\", 'x']]\n",
    "        try:\n",
    "            mdf.loc[index, \"partner_z\"] = np.float(temp.i_type)\n",
    "        except:\n",
    "            pass\n",
    "        try:\n",
    "            mdf.loc[index, \"partner_x\"] = np.float(temp.x)\n",
    "        except: \n",
    "            pass\n",
    "\n",
    "\n",
    "    return (df, mdf, wdf)\n",
    "\n",
    "def calc_mrhs(wdf, lb, ub):\n",
    "    acceptance_set = [i for i in range(1,6) if (i >= lb) & (i <= ub)]\n",
    "    big_sum = 0\n",
    "    ri = np.median(wdf.loc[wdf.z == lb, \"x\"])\n",
    "    for xj in acceptance_set:\n",
    "        big_sum = big_sum + 0.2*((np.median(wdf.loc[wdf.z == xj, \"x\"]))-ri)\n",
    "    rhs = 2 + (est_lambda)/(est_beta + est_delta)*big_sum\n",
    "    return(rhs)\n",
    "\n",
    "def find_reserve(df_opp, ub, params):\n",
    "    est_lambda, est_delta = params\n",
    "    est_beta = 0.05\n",
    "\n",
    "    diff_df = pd.DataFrame({'r' : [i for i in range(1,ub + 1)],\n",
    "        \"lhs\": np.nan,\n",
    "        \"rhs\": np.nan,\n",
    "        \"delta\": np.nan})\n",
    "\n",
    "    for i in range(1,ub + 1):\n",
    "        lb = ub + 1-i\n",
    "        acceptance_set = [i for i in range(1,6) if (i >= lb) & (i <= ub)]\n",
    "        big_sum = 0\n",
    "        ri = np.median(df_opp.loc[df_opp.z == lb, \"x\"])\n",
    "        diff_df.loc[diff_df.r == lb, \"lhs\"] = ri \n",
    "        for xj in acceptance_set:\n",
    "            big_sum = big_sum + 0.2*((np.median(df_opp.loc[df_opp.z == xj, \"x\"]))-ri)\n",
    "        rhs = 2 + (est_lambda)/(est_beta + est_delta)*big_sum\n",
    "        diff_df.loc[diff_df.r == lb, \"rhs\"] = rhs \n",
    "        delta = ri-rhs\n",
    "        diff_df.loc[diff_df.r == lb, \"delta\"] = delta \n",
    "\n",
    "    diff_df[\"abs_delta\"] = np.abs(diff_df.delta)\n",
    "    chosen_type = diff_df.sort_values(\"abs_delta\").reset_index(drop = True).loc[0,\"r\"]\n",
    "    # chosen_type = diff_df.loc[diff_df.delta >0, :].sort_values(\"delta\").reset_index(drop = True).loc[0,\"r\"]\n",
    "    return(chosen_type)\n",
    "\n",
    "def set_max_alt(df_opp):\n",
    "    \n",
    "    try:\n",
    "        ub = df_opp.loc[df_opp.reserv.isnull(),:].sort_values(\"type\", ascending = False).reset_index(drop = True).loc[0, \"type\"]\n",
    "    except:\n",
    "        ub = 1\n",
    "        pass\n",
    "    return(ub)\n",
    "\n",
    "def reserve_alt(df_main, df_opp, main_type, params):\n",
    "    # set max of\n",
    "    ub = df_opp.loc[df_opp.reserv.isnull(),:].sort_values(\"type\", ascending = False).reset_index(drop = True).loc[0, \"type\"]\n",
    "    # retrieve highest empty spot, that will be new max\n",
    "    diff_df = pd.DataFrame({'r' : [i for i in range(1,ub + 1)],\n",
    "            \"lhs\": np.nan,\n",
    "            \"rhs\": np.nan,\n",
    "            \"delta\": np.nan,})\n",
    "    for i in range(1,ub + 1):\n",
    "        lb = ub + 1-i\n",
    "        acceptance_set = [i for i in range(1,6) if (i >= lb) & (i <= ub)]\n",
    "        big_sum = 0\n",
    "        ri = np.median(df_opp.loc[df_opp.z == lb, \"x\"])\n",
    "        diff_df.loc[diff_df.r == lb, \"lhs\"] = ri \n",
    "        for xj in acceptance_set:\n",
    "            big_sum = big_sum + 0.2*((np.median(df_opp.loc[df_opp.z == xj, \"x\"]))-ri)\n",
    "        rhs = 2 + (est_lambda)/(est_beta + est_delta)*big_sum\n",
    "        diff_df.loc[diff_df.r == lb, \"rhs\"] = rhs \n",
    "        delta = ri-rhs\n",
    "        diff_df.loc[diff_df.r == lb, \"delta\"] = delta \n",
    "    diff_df[\"abs_delta\"] = np.abs(diff_df.delta)\n",
    "    chosen_type = diff_df.sort_values(\"abs_delta\").reset_index(drop = True).loc[0,\"r\"]\n",
    "    return(chosen_type)"
   ]
  },
  {
   "cell_type": "code",
   "execution_count": 11,
   "metadata": {},
   "outputs": [],
   "source": [
    "def generate_matchsets(mdf, wdf, params):\n",
    "    est_lambda, est_delta = params\n",
    "    est_beta = 0.05\n",
    "\n",
    "    menDF= pd.DataFrame({'type' : [6-i for i in range(1,6)],\n",
    "                         \"max\": np.nan,\n",
    "                         \"reserv\": np.nan})\n",
    "    womenDF = pd.DataFrame({'type' : [6-i for i in range(1,6)],\n",
    "                         \"max\": np.nan,\n",
    "                                  \"reserv\": np.nan})\n",
    "\n",
    "    # set max for top categories of men and women\n",
    "    menDF.loc[menDF.type == 5, \"max\"] = 5\n",
    "    womenDF.loc[womenDF.type == 5, \"max\"] = 5\n",
    "    menDF.loc[menDF.type == 5, \"reserv\"] = find_reserve(wdf, 5, params)\n",
    "    womenDF.loc[womenDF.type == 5, \"reserv\"] = find_reserve(mdf, 5, params)\n",
    "\n",
    "    # for men\n",
    "    for i in range(1,5):\n",
    "        i_type = 5-i\n",
    "        \n",
    "        man_max_exists = False\n",
    "        \n",
    "        # set max for men if identifiable\n",
    "        try:\n",
    "            max_men_i = list(womenDF.loc[womenDF.reserv <= i_type, \"type\"].sort_values(ascending = False))[0]\n",
    "            man_max_exists = True\n",
    "\n",
    "        except:\n",
    "            pass\n",
    "        \n",
    "        # set reserve for men if identifiable \n",
    "        if man_max_exists == True:\n",
    "            # set max:\n",
    "            menDF.loc[menDF.type == i_type, \"max\"] = max_men_i\n",
    "            #print(\"Max of men of type {} = {}\".format(i_type, max_men_i))\n",
    "            menDF.loc[menDF.type == i_type, \"reserv\"] = find_reserve(wdf, max_men_i, params)\n",
    "            #print(\"Reserve of men of type {} = {}\".format(i_type, find_reserve(wdf, max_men_i, est_params)))\n",
    "  \n",
    "        # set max for max if unidentifable:\n",
    "        \n",
    "        if man_max_exists == False:\n",
    "            new_man_max = set_max_alt(womenDF)\n",
    "            menDF.loc[menDF.type ==i_type, \"max\"] = new_man_max\n",
    "            #print(\"Max of men of type {} = {}\".format(i_type, new_man_max))\n",
    "            menDF.loc[menDF.type == i_type, \"reserv\"] = find_reserve(wdf, new_man_max, params)\n",
    "            #print(\"Reserve of men of type {} = {}\".format(i_type, find_reserve(wdf, new_man_max, est_params)))\n",
    "\n",
    "\n",
    "        # set max for women if identifiable\n",
    "        woman_max_exists = False\n",
    "        \n",
    "        try:\n",
    "                max_women_i = list(menDF.loc[menDF.reserv <= i_type, \"type\"].sort_values(ascending = False))[0]\n",
    "                woman_max_exists = True\n",
    "        except:\n",
    "            pass\n",
    "\n",
    "        if woman_max_exists == True:\n",
    "            # set max:\n",
    "            womenDF.loc[womenDF.type == i_type, \"max\"] = max_women_i\n",
    "            #print(\"Max of women of type {} = {}\".format(i_type, max_women_i))\n",
    "            womenDF.loc[womenDF.type == i_type, \"reserv\"] = find_reserve(mdf, max_women_i, params)\n",
    "            #print(\"Reserve of women of type {} = {}\".format(i_type, find_reserve(mdf, max_women_i, est_params)))\n",
    "        \n",
    "        if woman_max_exists == False:\n",
    "            new_woman_max = set_max_alt(menDF)\n",
    "            womenDF.loc[womenDF.type ==i_type, \"max\"] = new_woman_max\n",
    "            #print(\"Max of women of type {} = {}\".format(i_type, new_woman_max))\n",
    "            womenDF.loc[womenDF.type == i_type, \"reserv\"] = find_reserve(mdf, new_woman_max, params)\n",
    "            #print(\"Reserve of women of type {} = {}\".format(i_type, find_reserve(mdf, new_woman_max, est_params)))\n",
    "\n",
    "    # go back to revise maxes:\n",
    "\n",
    "    for i in range(1,6):\n",
    "        i_type = 6-i\n",
    "        # check for men:\n",
    "        real_max = max(womenDF.loc[womenDF.reserv <= i_type, \"type\"].sort_values(ascending = False))\n",
    "        actual_max = np.float(menDF.loc[menDF.type == i_type, \"max\"])\n",
    "        if real_max > actual_max:\n",
    "            menDF.loc[menDF.type == i_type, \"max\"] = real_max\n",
    "        \n",
    "        # check for women:\n",
    "        try:\n",
    "            real_max = max(menDF.loc[menDF.reserv <= i_type, \"type\"].sort_values(ascending = False))\n",
    "            actual_max = np.float(womenDF.loc[womenDF.type == i_type, \"max\"])\n",
    "            if real_max > actual_max:\n",
    "                womenDF.loc[womenDF.type == i_type, \"max\"] = real_max\n",
    "        except: \n",
    "            pass\n",
    "    return (menDF, womenDF)"
   ]
  },
  {
   "cell_type": "code",
   "execution_count": 12,
   "metadata": {},
   "outputs": [],
   "source": [
    "def generate_likelihoods(df, mdf, wdf, params):\n",
    "    # unpack parameters\n",
    "    est_lambda, est_delta = params\n",
    "    est_beta = 0.05\n",
    "\n",
    "    match_sets = generate_matchsets(mdf, wdf, params)\n",
    "    match_men, match_women =  match_sets[0], match_sets[1]\n",
    "\n",
    "    mdf[\"lik_single\"] = np.nan\n",
    "    mdf[\"lik_married\"] = np.nan\n",
    "\n",
    "    for index, row in mdf.iterrows():\n",
    "        # likelihood of being single:\n",
    "        temp_z = row.z\n",
    "        temp_max = np.float(match_men.loc[match_men.type == row.z, \"max\"])\n",
    "        temp_reserv = np.float(match_men.loc[match_men.type == row.z, \"reserv\"])\n",
    "        single_time = row.t_single\n",
    "        married_time = row.t_married\n",
    "        temp_gamma = 0.2 * (1 + temp_max - temp_reserv)\n",
    "        likelihood_single = est_lambda * temp_gamma * np.exp(-est_lambda*temp_gamma*single_time)\n",
    "\n",
    "        # likelihood of marriage\n",
    "        fxj = 1/(1 + temp_max - temp_reserv)\n",
    "        likelihood_married = fxj * est_delta * np.exp(-est_delta * married_time)\n",
    "        mdf.loc[index, \"lik_single\"] = likelihood_single\n",
    "        mdf.loc[index, \"lik_married\"] = likelihood_married\n",
    "\n",
    "    mdf[\"likelihood\"] =  mdf[\"lik_single\"] * mdf[\"lik_married\"] \n",
    "    return mdf[\"likelihood\"]\n",
    "\n",
    "def criterion_function(params, args):\n",
    "    df = args[0]\n",
    "    mdf = args[1]\n",
    "    wdf = args[2]\n",
    "    likelihood_vector = generate_likelihoods(df, mdf, wdf, params)\n",
    "    negloglik = -sum(np.log(likelihood_vector))\n",
    "    return negloglik\n"
   ]
  },
  {
   "cell_type": "code",
   "execution_count": 13,
   "metadata": {},
   "outputs": [
    {
     "data": {
      "text/plain": [
       "      fun: 1363.8820436700698\n",
       " hess_inv: <2x2 LbfgsInvHessProduct with dtype=float64>\n",
       "      jac: array([0.00011369, 0.00065938])\n",
       "  message: b'CONVERGENCE: REL_REDUCTION_OF_F_<=_FACTR*EPSMCH'\n",
       "     nfev: 51\n",
       "      nit: 13\n",
       "   status: 0\n",
       "  success: True\n",
       "        x: array([0.75872514, 0.05319149])"
      ]
     },
     "execution_count": 13,
     "metadata": {},
     "output_type": "execute_result"
    }
   ],
   "source": [
    "params_initial = np.array([0.05, 0.05])\n",
    "mle_args1 = [df1, mdf1, wdf1]\n",
    "results1 = opt.minimize(criterion_function, \n",
    "                       params_initial, \n",
    "                       args=(mle_args1), \n",
    "                       method='L-BFGS-B', \n",
    "                       bounds=((0.01, 3), (0.01, 3)),\n",
    "                       tol=1e-9,\n",
    "                       options={'maxiter':1000})\n",
    "results1"
   ]
  },
  {
   "cell_type": "code",
   "execution_count": 14,
   "metadata": {},
   "outputs": [],
   "source": [
    "lambda_mle1, delta_mle1 = results1.x"
   ]
  },
  {
   "cell_type": "code",
   "execution_count": 15,
   "metadata": {},
   "outputs": [],
   "source": [
    "vcv_mle1 = results1.hess_inv.todense()\n",
    "se_lambda1 = np.sqrt(vcv_mle1[0,0])\n",
    "se_delta1 = np.sqrt(vcv_mle1[1,1])"
   ]
  },
  {
   "cell_type": "code",
   "execution_count": 16,
   "metadata": {},
   "outputs": [
    {
     "name": "stdout",
     "output_type": "stream",
     "text": [
      "Lambda_hat is 0.7587251420941598, with a standard error of 0.10599913693477789.\n",
      "\n",
      "Delta_hat is 0.053191492063554856, with a standard error of 0.011108918373657172.\n",
      "\n"
     ]
    }
   ],
   "source": [
    "print(\"Lambda_hat is {}, with a standard error of {}.\\n\".format(lambda_mle1, se_lambda1))\n",
    "print(\"Delta_hat is {}, with a standard error of {}.\\n\".format(delta_mle1, se_delta1))"
   ]
  },
  {
   "cell_type": "code",
   "execution_count": 17,
   "metadata": {},
   "outputs": [],
   "source": [
    "mle_men1, mle_women1 = generate_matchsets(mdf1, wdf1, [lambda_mle1, delta_mle1])"
   ]
  },
  {
   "cell_type": "code",
   "execution_count": 18,
   "metadata": {},
   "outputs": [
    {
     "name": "stdout",
     "output_type": "stream",
     "text": [
      "\\begin{tabular}{rrr}\n",
      "\\toprule\n",
      " type &  max &  reserv \\\\\n",
      "\\midrule\n",
      "    5 &  5.0 &     5.0 \\\\\n",
      "    4 &  4.0 &     3.0 \\\\\n",
      "    3 &  4.0 &     3.0 \\\\\n",
      "    2 &  2.0 &     2.0 \\\\\n",
      "    1 &  2.0 &     2.0 \\\\\n",
      "\\bottomrule\n",
      "\\end{tabular}\n",
      "\n"
     ]
    }
   ],
   "source": [
    "print(mle_men1.to_latex(index = False))"
   ]
  },
  {
   "cell_type": "code",
   "execution_count": 19,
   "metadata": {},
   "outputs": [
    {
     "name": "stdout",
     "output_type": "stream",
     "text": [
      "\\begin{tabular}{rrr}\n",
      "\\toprule\n",
      " type &  max &  reserv \\\\\n",
      "\\midrule\n",
      "    5 &  5.0 &     5.0 \\\\\n",
      "    4 &  4.0 &     3.0 \\\\\n",
      "    3 &  4.0 &     3.0 \\\\\n",
      "    2 &  2.0 &     1.0 \\\\\n",
      "    1 &  1.0 &     1.0 \\\\\n",
      "\\bottomrule\n",
      "\\end{tabular}\n",
      "\n"
     ]
    }
   ],
   "source": [
    "print(mle_women1.to_latex(index = False))"
   ]
  },
  {
   "cell_type": "code",
   "execution_count": 22,
   "metadata": {},
   "outputs": [
    {
     "name": "stdout",
     "output_type": "stream",
     "text": [
      "\\begin{tabular}{lrr}\n",
      "\\toprule\n",
      "Parameters &  Point Estimates &  Standard Errors \\\\\n",
      "\\midrule\n",
      "    Lambda &         0.758725 &         0.105999 \\\\\n",
      "     Delta &         0.053191 &         0.011109 \\\\\n",
      "\\bottomrule\n",
      "\\end{tabular}\n",
      "\n"
     ]
    }
   ],
   "source": [
    "latest_estmates = pd.DataFrame({\"Parameters\": [\"Lambda\", \"Delta\"],\n",
    "    \"Point Estimates\":[lambda_mle1, delta_mle1],\n",
    "                               \"Standard Errors\":[se_lambda1, se_delta1]})\n",
    "print(latest_estmates.to_latex(index = False))"
   ]
  },
  {
   "cell_type": "code",
   "execution_count": 23,
   "metadata": {},
   "outputs": [
    {
     "data": {
      "text/plain": [
       "      fun: 3565.8405440796987\n",
       " hess_inv: <2x2 LbfgsInvHessProduct with dtype=float64>\n",
       "      jac: array([ 0.0003638 , -0.00331966])\n",
       "  message: b'CONVERGENCE: REL_REDUCTION_OF_F_<=_FACTR*EPSMCH'\n",
       "     nfev: 48\n",
       "      nit: 11\n",
       "   status: 0\n",
       "  success: True\n",
       "        x: array([0.25354521, 0.05000558])"
      ]
     },
     "execution_count": 23,
     "metadata": {},
     "output_type": "execute_result"
    }
   ],
   "source": [
    "mle_args2 = [df2, mdf2, wdf2]\n",
    "results2 = opt.minimize(criterion_function, \n",
    "                       params_initial, \n",
    "                       args=(mle_args2), \n",
    "                       method='L-BFGS-B', \n",
    "                       bounds=((0.01, 3), (0.01, 3)),\n",
    "                       tol=1e-9,\n",
    "                       options={'maxiter':1000})\n",
    "results2"
   ]
  },
  {
   "cell_type": "code",
   "execution_count": 24,
   "metadata": {},
   "outputs": [],
   "source": [
    "lambda_mle2, delta_mle2 = results2.x"
   ]
  },
  {
   "cell_type": "code",
   "execution_count": 25,
   "metadata": {},
   "outputs": [],
   "source": [
    "vcv_mle2 = results2.hess_inv.todense()\n",
    "se_lambda2 = np.sqrt(vcv_mle2[0,0])\n",
    "se_delta2 = np.sqrt(vcv_mle2[1,1])"
   ]
  },
  {
   "cell_type": "code",
   "execution_count": 26,
   "metadata": {},
   "outputs": [
    {
     "name": "stdout",
     "output_type": "stream",
     "text": [
      "Lambda_hat is 0.2535452112374287, with a standard error of 0.050765176996081664.\n",
      "\n",
      "Delta_hat is 0.05000558290216397, with a standard error of 0.009274522092255032.\n",
      "\n"
     ]
    }
   ],
   "source": [
    "print(\"Lambda_hat is {}, with a standard error of {}.\\n\".format(lambda_mle2, se_lambda2))\n",
    "print(\"Delta_hat is {}, with a standard error of {}.\\n\".format(delta_mle2, se_delta2))"
   ]
  },
  {
   "cell_type": "code",
   "execution_count": 27,
   "metadata": {},
   "outputs": [],
   "source": [
    "mle_men2, mle_women2 = generate_matchsets(mdf2, wdf2, [lambda_mle2, delta_mle2])"
   ]
  },
  {
   "cell_type": "code",
   "execution_count": 28,
   "metadata": {},
   "outputs": [
    {
     "name": "stdout",
     "output_type": "stream",
     "text": [
      "\\begin{tabular}{rrr}\n",
      "\\toprule\n",
      " type &  max &  reserv \\\\\n",
      "\\midrule\n",
      "    5 &  5.0 &     4.0 \\\\\n",
      "    4 &  5.0 &     4.0 \\\\\n",
      "    3 &  3.0 &     2.0 \\\\\n",
      "    2 &  3.0 &     2.0 \\\\\n",
      "    1 &  1.0 &     1.0 \\\\\n",
      "\\bottomrule\n",
      "\\end{tabular}\n",
      "\n"
     ]
    }
   ],
   "source": [
    "print(mle_men2.to_latex(index = False))"
   ]
  },
  {
   "cell_type": "code",
   "execution_count": 29,
   "metadata": {},
   "outputs": [
    {
     "name": "stdout",
     "output_type": "stream",
     "text": [
      "\\begin{tabular}{rrr}\n",
      "\\toprule\n",
      " type &  max &  reserv \\\\\n",
      "\\midrule\n",
      "    5 &  5.0 &     4.0 \\\\\n",
      "    4 &  5.0 &     4.0 \\\\\n",
      "    3 &  3.0 &     2.0 \\\\\n",
      "    2 &  3.0 &     2.0 \\\\\n",
      "    1 &  1.0 &     1.0 \\\\\n",
      "\\bottomrule\n",
      "\\end{tabular}\n",
      "\n"
     ]
    }
   ],
   "source": [
    "print(mle_women2.to_latex(index = False))"
   ]
  },
  {
   "cell_type": "code",
   "execution_count": 39,
   "metadata": {},
   "outputs": [],
   "source": [
    "lb_lambda1 = lambda_mle1 - 1.96*se_lambda1\n",
    "ub_lambda1 = lambda_mle1 + 1.96*se_lambda1\n",
    "lb_lambda2 = lambda_mle2 - 1.96*se_lambda2\n",
    "ub_lambda2 = lambda_mle2 + 1.96*se_lambda2\n",
    "lb_delta1 = delta_mle1 - 1.96*se_delta1\n",
    "ub_delta1 = delta_mle1 + 1.96*se_delta1\n",
    "lb_delta2 = delta_mle2 - 1.96*se_delta2\n",
    "ub_delta2 = delta_mle2 + 1.96*se_delta2\n",
    "\n"
   ]
  },
  {
   "cell_type": "code",
   "execution_count": 37,
   "metadata": {},
   "outputs": [
    {
     "data": {
      "text/plain": [
       "0.5509668337019951"
      ]
     },
     "execution_count": 37,
     "metadata": {},
     "output_type": "execute_result"
    }
   ],
   "source": [
    "lb_lamnda1"
   ]
  },
  {
   "cell_type": "code",
   "execution_count": 62,
   "metadata": {},
   "outputs": [
    {
     "data": {
      "text/html": [
       "<div>\n",
       "<style scoped>\n",
       "    .dataframe tbody tr th:only-of-type {\n",
       "        vertical-align: middle;\n",
       "    }\n",
       "\n",
       "    .dataframe tbody tr th {\n",
       "        vertical-align: top;\n",
       "    }\n",
       "\n",
       "    .dataframe thead th {\n",
       "        text-align: right;\n",
       "    }\n",
       "</style>\n",
       "<table border=\"1\" class=\"dataframe\">\n",
       "  <thead>\n",
       "    <tr style=\"text-align: right;\">\n",
       "      <th></th>\n",
       "      <th>models</th>\n",
       "      <th>variables</th>\n",
       "      <th>Point Estimate</th>\n",
       "      <th>S.E.</th>\n",
       "      <th>Lower Bound (95%)</th>\n",
       "      <th>Upper Bound (95%)</th>\n",
       "    </tr>\n",
       "  </thead>\n",
       "  <tbody>\n",
       "    <tr>\n",
       "      <th>0</th>\n",
       "      <td></td>\n",
       "      <td>lambda</td>\n",
       "      <td>0.758725</td>\n",
       "      <td>0.105999</td>\n",
       "      <td>0.550967</td>\n",
       "      <td>0.966483</td>\n",
       "    </tr>\n",
       "    <tr>\n",
       "      <th>1</th>\n",
       "      <td></td>\n",
       "      <td>delta</td>\n",
       "      <td>0.053191</td>\n",
       "      <td>0.011109</td>\n",
       "      <td>0.031418</td>\n",
       "      <td>0.074965</td>\n",
       "    </tr>\n",
       "    <tr>\n",
       "      <th>2</th>\n",
       "      <td></td>\n",
       "      <td>lambda</td>\n",
       "      <td>0.253545</td>\n",
       "      <td>0.050765</td>\n",
       "      <td>0.154045</td>\n",
       "      <td>0.353045</td>\n",
       "    </tr>\n",
       "    <tr>\n",
       "      <th>3</th>\n",
       "      <td></td>\n",
       "      <td>delta</td>\n",
       "      <td>0.050006</td>\n",
       "      <td>0.009275</td>\n",
       "      <td>0.031828</td>\n",
       "      <td>0.068184</td>\n",
       "    </tr>\n",
       "  </tbody>\n",
       "</table>\n",
       "</div>"
      ],
      "text/plain": [
       "  models variables  Point Estimate      S.E.  Lower Bound (95%)  \\\n",
       "0           lambda        0.758725  0.105999           0.550967   \n",
       "1            delta        0.053191  0.011109           0.031418   \n",
       "2           lambda        0.253545  0.050765           0.154045   \n",
       "3            delta        0.050006  0.009275           0.031828   \n",
       "\n",
       "   Upper Bound (95%)  \n",
       "0           0.966483  \n",
       "1           0.074965  \n",
       "2           0.353045  \n",
       "3           0.068184  "
      ]
     },
     "execution_count": 62,
     "metadata": {},
     "output_type": "execute_result"
    }
   ],
   "source": [
    "parDF = pd.DataFrame({\"models\": [\"\", \"\",\"\", \"\"],\n",
    "                      \"variables\":[\"lambda\", \"delta\", \"lambda\", \"delta\"],\n",
    "                      \"Point Estimate\":[lambda_mle1, delta_mle1, lambda_mle2, delta_mle2],\n",
    "                      \"S.E.\":[se_lambda1,se_delta1,se_lambda2,se_delta2 ],\n",
    "                      \"Lower Bound (95%)\": [lb_lambda1, lb_delta1,lb_lambda2, lb_delta2],\n",
    "                      \"Upper Bound (95%)\":[ub_lambda1, ub_delta1,ub_lambda2, ub_delta2]\n",
    "                     })\n",
    "parDF"
   ]
  },
  {
   "cell_type": "code",
   "execution_count": 63,
   "metadata": {},
   "outputs": [
    {
     "name": "stdout",
     "output_type": "stream",
     "text": [
      "\\begin{tabular}{llrrrr}\n",
      "\\toprule\n",
      "models & variables &  Point Estimate &   S.E. &  Lower Bound (95\\%) &  Upper Bound (95\\%) \\\\\n",
      "\\midrule\n",
      "       &    lambda &           0.759 &  0.106 &              0.551 &              0.966 \\\\\n",
      "       &     delta &           0.053 &  0.011 &              0.031 &              0.075 \\\\\n",
      "       &    lambda &           0.254 &  0.051 &              0.154 &              0.353 \\\\\n",
      "       &     delta &           0.050 &  0.009 &              0.032 &              0.068 \\\\\n",
      "\\bottomrule\n",
      "\\end{tabular}\n",
      "\n"
     ]
    }
   ],
   "source": [
    "print(parDF.round(3).to_latex(index = False))"
   ]
  },
  {
   "cell_type": "code",
   "execution_count": 48,
   "metadata": {},
   "outputs": [],
   "source": [
    "mmatch_DF = pd.concat([mle_men1, mle_men2])\n",
    "wmatch_DF =  pd.concat([mle_women1, mle_women2])"
   ]
  },
  {
   "cell_type": "code",
   "execution_count": 49,
   "metadata": {},
   "outputs": [
    {
     "data": {
      "text/html": [
       "<div>\n",
       "<style scoped>\n",
       "    .dataframe tbody tr th:only-of-type {\n",
       "        vertical-align: middle;\n",
       "    }\n",
       "\n",
       "    .dataframe tbody tr th {\n",
       "        vertical-align: top;\n",
       "    }\n",
       "\n",
       "    .dataframe thead th {\n",
       "        text-align: right;\n",
       "    }\n",
       "</style>\n",
       "<table border=\"1\" class=\"dataframe\">\n",
       "  <thead>\n",
       "    <tr style=\"text-align: right;\">\n",
       "      <th></th>\n",
       "      <th>type</th>\n",
       "      <th>max</th>\n",
       "      <th>reserv</th>\n",
       "    </tr>\n",
       "  </thead>\n",
       "  <tbody>\n",
       "    <tr>\n",
       "      <th>0</th>\n",
       "      <td>5</td>\n",
       "      <td>5.0</td>\n",
       "      <td>5.0</td>\n",
       "    </tr>\n",
       "    <tr>\n",
       "      <th>1</th>\n",
       "      <td>4</td>\n",
       "      <td>4.0</td>\n",
       "      <td>3.0</td>\n",
       "    </tr>\n",
       "    <tr>\n",
       "      <th>2</th>\n",
       "      <td>3</td>\n",
       "      <td>4.0</td>\n",
       "      <td>3.0</td>\n",
       "    </tr>\n",
       "    <tr>\n",
       "      <th>3</th>\n",
       "      <td>2</td>\n",
       "      <td>2.0</td>\n",
       "      <td>2.0</td>\n",
       "    </tr>\n",
       "    <tr>\n",
       "      <th>4</th>\n",
       "      <td>1</td>\n",
       "      <td>2.0</td>\n",
       "      <td>2.0</td>\n",
       "    </tr>\n",
       "    <tr>\n",
       "      <th>0</th>\n",
       "      <td>5</td>\n",
       "      <td>5.0</td>\n",
       "      <td>4.0</td>\n",
       "    </tr>\n",
       "    <tr>\n",
       "      <th>1</th>\n",
       "      <td>4</td>\n",
       "      <td>5.0</td>\n",
       "      <td>4.0</td>\n",
       "    </tr>\n",
       "    <tr>\n",
       "      <th>2</th>\n",
       "      <td>3</td>\n",
       "      <td>3.0</td>\n",
       "      <td>2.0</td>\n",
       "    </tr>\n",
       "    <tr>\n",
       "      <th>3</th>\n",
       "      <td>2</td>\n",
       "      <td>3.0</td>\n",
       "      <td>2.0</td>\n",
       "    </tr>\n",
       "    <tr>\n",
       "      <th>4</th>\n",
       "      <td>1</td>\n",
       "      <td>1.0</td>\n",
       "      <td>1.0</td>\n",
       "    </tr>\n",
       "  </tbody>\n",
       "</table>\n",
       "</div>"
      ],
      "text/plain": [
       "   type  max  reserv\n",
       "0     5  5.0     5.0\n",
       "1     4  4.0     3.0\n",
       "2     3  4.0     3.0\n",
       "3     2  2.0     2.0\n",
       "4     1  2.0     2.0\n",
       "0     5  5.0     4.0\n",
       "1     4  5.0     4.0\n",
       "2     3  3.0     2.0\n",
       "3     2  3.0     2.0\n",
       "4     1  1.0     1.0"
      ]
     },
     "execution_count": 49,
     "metadata": {},
     "output_type": "execute_result"
    }
   ],
   "source": [
    "mmatch_DF"
   ]
  },
  {
   "cell_type": "code",
   "execution_count": 50,
   "metadata": {},
   "outputs": [
    {
     "data": {
      "text/html": [
       "<div>\n",
       "<style scoped>\n",
       "    .dataframe tbody tr th:only-of-type {\n",
       "        vertical-align: middle;\n",
       "    }\n",
       "\n",
       "    .dataframe tbody tr th {\n",
       "        vertical-align: top;\n",
       "    }\n",
       "\n",
       "    .dataframe thead th {\n",
       "        text-align: right;\n",
       "    }\n",
       "</style>\n",
       "<table border=\"1\" class=\"dataframe\">\n",
       "  <thead>\n",
       "    <tr style=\"text-align: right;\">\n",
       "      <th></th>\n",
       "      <th>type</th>\n",
       "      <th>max</th>\n",
       "      <th>reserv</th>\n",
       "    </tr>\n",
       "  </thead>\n",
       "  <tbody>\n",
       "    <tr>\n",
       "      <th>0</th>\n",
       "      <td>5</td>\n",
       "      <td>5.0</td>\n",
       "      <td>5.0</td>\n",
       "    </tr>\n",
       "    <tr>\n",
       "      <th>1</th>\n",
       "      <td>4</td>\n",
       "      <td>4.0</td>\n",
       "      <td>3.0</td>\n",
       "    </tr>\n",
       "    <tr>\n",
       "      <th>2</th>\n",
       "      <td>3</td>\n",
       "      <td>4.0</td>\n",
       "      <td>3.0</td>\n",
       "    </tr>\n",
       "    <tr>\n",
       "      <th>3</th>\n",
       "      <td>2</td>\n",
       "      <td>2.0</td>\n",
       "      <td>1.0</td>\n",
       "    </tr>\n",
       "    <tr>\n",
       "      <th>4</th>\n",
       "      <td>1</td>\n",
       "      <td>1.0</td>\n",
       "      <td>1.0</td>\n",
       "    </tr>\n",
       "    <tr>\n",
       "      <th>0</th>\n",
       "      <td>5</td>\n",
       "      <td>5.0</td>\n",
       "      <td>4.0</td>\n",
       "    </tr>\n",
       "    <tr>\n",
       "      <th>1</th>\n",
       "      <td>4</td>\n",
       "      <td>5.0</td>\n",
       "      <td>4.0</td>\n",
       "    </tr>\n",
       "    <tr>\n",
       "      <th>2</th>\n",
       "      <td>3</td>\n",
       "      <td>3.0</td>\n",
       "      <td>2.0</td>\n",
       "    </tr>\n",
       "    <tr>\n",
       "      <th>3</th>\n",
       "      <td>2</td>\n",
       "      <td>3.0</td>\n",
       "      <td>2.0</td>\n",
       "    </tr>\n",
       "    <tr>\n",
       "      <th>4</th>\n",
       "      <td>1</td>\n",
       "      <td>1.0</td>\n",
       "      <td>1.0</td>\n",
       "    </tr>\n",
       "  </tbody>\n",
       "</table>\n",
       "</div>"
      ],
      "text/plain": [
       "   type  max  reserv\n",
       "0     5  5.0     5.0\n",
       "1     4  4.0     3.0\n",
       "2     3  4.0     3.0\n",
       "3     2  2.0     1.0\n",
       "4     1  1.0     1.0\n",
       "0     5  5.0     4.0\n",
       "1     4  5.0     4.0\n",
       "2     3  3.0     2.0\n",
       "3     2  3.0     2.0\n",
       "4     1  1.0     1.0"
      ]
     },
     "execution_count": 50,
     "metadata": {},
     "output_type": "execute_result"
    }
   ],
   "source": [
    "wmatch_DF"
   ]
  },
  {
   "cell_type": "code",
   "execution_count": 51,
   "metadata": {},
   "outputs": [
    {
     "name": "stdout",
     "output_type": "stream",
     "text": [
      "\\begin{tabular}{rrr}\n",
      "\\toprule\n",
      " type &  max &  reserv \\\\\n",
      "\\midrule\n",
      "    5 &  5.0 &     5.0 \\\\\n",
      "    4 &  4.0 &     3.0 \\\\\n",
      "    3 &  4.0 &     3.0 \\\\\n",
      "    2 &  2.0 &     2.0 \\\\\n",
      "    1 &  2.0 &     2.0 \\\\\n",
      "    5 &  5.0 &     4.0 \\\\\n",
      "    4 &  5.0 &     4.0 \\\\\n",
      "    3 &  3.0 &     2.0 \\\\\n",
      "    2 &  3.0 &     2.0 \\\\\n",
      "    1 &  1.0 &     1.0 \\\\\n",
      "\\bottomrule\n",
      "\\end{tabular}\n",
      "\n"
     ]
    }
   ],
   "source": [
    "print(mmatch_DF.to_latex(index = False))"
   ]
  },
  {
   "cell_type": "code",
   "execution_count": 52,
   "metadata": {},
   "outputs": [
    {
     "name": "stdout",
     "output_type": "stream",
     "text": [
      "\\begin{tabular}{rrr}\n",
      "\\toprule\n",
      " type &  max &  reserv \\\\\n",
      "\\midrule\n",
      "    5 &  5.0 &     5.0 \\\\\n",
      "    4 &  4.0 &     3.0 \\\\\n",
      "    3 &  4.0 &     3.0 \\\\\n",
      "    2 &  2.0 &     1.0 \\\\\n",
      "    1 &  1.0 &     1.0 \\\\\n",
      "    5 &  5.0 &     4.0 \\\\\n",
      "    4 &  5.0 &     4.0 \\\\\n",
      "    3 &  3.0 &     2.0 \\\\\n",
      "    2 &  3.0 &     2.0 \\\\\n",
      "    1 &  1.0 &     1.0 \\\\\n",
      "\\bottomrule\n",
      "\\end{tabular}\n",
      "\n"
     ]
    }
   ],
   "source": [
    "print(wmatch_DF.to_latex(index = False))"
   ]
  },
  {
   "cell_type": "code",
   "execution_count": null,
   "metadata": {},
   "outputs": [],
   "source": []
  },
  {
   "cell_type": "code",
   "execution_count": 61,
   "metadata": {},
   "outputs": [
    {
     "data": {
      "text/plain": [
       "      fun: 4929.940044992184\n",
       " hess_inv: <2x2 LbfgsInvHessProduct with dtype=float64>\n",
       "      jac: array([ 588.6060535 , 1452.75171235])\n",
       "  message: b'ABNORMAL_TERMINATION_IN_LNSRCH'\n",
       "     nfev: 168\n",
       "      nit: 6\n",
       "   status: 2\n",
       "  success: False\n",
       "        x: array([0.6422518, 0.0575303])"
      ]
     },
     "execution_count": 61,
     "metadata": {},
     "output_type": "execute_result"
    }
   ],
   "source": [
    "params_initial = np.array([.740, 0.002])\n",
    "mle_args = [dfs[0], dfs[1], dfs[2]]\n",
    "results_full = opt.minimize(criterion_function, \n",
    "                       params_initial, \n",
    "                       args=(mle_args), \n",
    "                       #method='L-BFGS-B', \n",
    "                       bounds=((0.001, 3), (0.001, 3)),\n",
    "                       tol=1e-6,\n",
    "                       options={'maxiter':1000})\n",
    "results_full"
   ]
  },
  {
   "cell_type": "code",
   "execution_count": 62,
   "metadata": {},
   "outputs": [],
   "source": [
    "lambda_mle2, delta_mle2 = results_full.x"
   ]
  },
  {
   "cell_type": "code",
   "execution_count": 63,
   "metadata": {},
   "outputs": [],
   "source": [
    "vcv_mle2 = results_full.hess_inv.todense()\n",
    "se_lambda2 = np.sqrt(vcv_mle2[0,0])\n",
    "se_delta2 = np.sqrt(vcv_mle2[1,1])"
   ]
  },
  {
   "cell_type": "code",
   "execution_count": 64,
   "metadata": {},
   "outputs": [
    {
     "name": "stdout",
     "output_type": "stream",
     "text": [
      "Lambda_hat is 0.6422517951906717, with a standard error of 1.0.\n",
      "\n",
      "Delta_hat is 0.05753030011285562, with a standard error of 1.0.\n",
      "\n"
     ]
    }
   ],
   "source": [
    "print(\"Lambda_hat is {}, with a standard error of {}.\\n\".format(lambda_mle2, se_lambda2))\n",
    "print(\"Delta_hat is {}, with a standard error of {}.\\n\".format(delta_mle2, se_delta2))"
   ]
  },
  {
   "cell_type": "code",
   "execution_count": null,
   "metadata": {},
   "outputs": [],
   "source": []
  }
 ],
 "metadata": {
  "kernelspec": {
   "display_name": "Python 3",
   "language": "python",
   "name": "python3"
  },
  "language_info": {
   "codemirror_mode": {
    "name": "ipython",
    "version": 3
   },
   "file_extension": ".py",
   "mimetype": "text/x-python",
   "name": "python",
   "nbconvert_exporter": "python",
   "pygments_lexer": "ipython3",
   "version": "3.6.7"
  }
 },
 "nbformat": 4,
 "nbformat_minor": 4
}
