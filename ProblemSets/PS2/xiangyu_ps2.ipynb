{
 "cells": [
  {
   "cell_type": "code",
   "execution_count": 1,
   "metadata": {},
   "outputs": [],
   "source": [
    "import numpy as np \n",
    "import pandas as pd\n",
    "import matplotlib.pyplot as plt"
   ]
  },
  {
   "cell_type": "code",
   "execution_count": 2,
   "metadata": {},
   "outputs": [],
   "source": [
    "df = pd.read_csv(\"clms.txt\", header=None)\n",
    "df[\"x\"] = df[0]"
   ]
  },
  {
   "cell_type": "markdown",
   "metadata": {},
   "source": [
    "# Part 1\n",
    "\n",
    "## (a):\n"
   ]
  },
  {
   "cell_type": "code",
   "execution_count": 94,
   "metadata": {},
   "outputs": [
    {
     "name": "stdout",
     "output_type": "stream",
     "text": [
      "\n",
      "Mean: 720.2779753272415\n",
      "\n",
      "Median: 172.21\n",
      "\n",
      "Maximum: 227967.25\n",
      "\n",
      "Minimum: 0.01\n",
      "\n",
      "Standard Deviation: 3972.663756393654\n"
     ]
    }
   ],
   "source": [
    "print(\"\\nMean: {}\".format(np.mean(df[\"x\"])))\n",
    "print(\"\\nMedian: {}\".format(np.median(df[\"x\"])))\n",
    "print(\"\\nMaximum: {}\".format(np.max(df[\"x\"])))\n",
    "print(\"\\nMinimum: {}\".format(np.min(df[\"x\"])))\n",
    "print(\"\\nStandard Deviation: {}\".format(np.std(df[\"x\"])))"
   ]
  },
  {
   "cell_type": "code",
   "execution_count": 158,
   "metadata": {},
   "outputs": [
    {
     "data": {
      "text/plain": [
       "Text(0, 0.5, 'Number of observations')"
      ]
     },
     "execution_count": 158,
     "metadata": {},
     "output_type": "execute_result"
    },
    {
     "data": {
      "image/png": "[encoded data removed]",
      "text/plain": [
       "<Figure size 432x288 with 1 Axes>"
      ]
     },
     "metadata": {
      "needs_background": "light"
     },
     "output_type": "display_data"
    }
   ],
   "source": [
    "# Plot histogram\n",
    "num_bins = 1000\n",
    "count, bins, ignored = plt.hist(df.x, num_bins, density=True,\n",
    "                                edgecolor='k')\n",
    "plt.title('Histogram of Monthly Health Expenditures', fontsize=17)\n",
    "plt.xlabel(r'Monthly health expenditures')\n",
    "plt.ylabel(r'Number of observations')"
   ]
  },
  {
   "cell_type": "code",
   "execution_count": 128,
   "metadata": {},
   "outputs": [
    {
     "data": {
      "text/plain": [
       "Text(0, 0.5, 'Number of observations')"
      ]
     },
     "execution_count": 128,
     "metadata": {},
     "output_type": "execute_result"
    },
    {
     "data": {
      "image/png": "[encoded data removed]",
      "text/plain": [
       "<Figure size 432x288 with 1 Axes>"
      ]
     },
     "metadata": {
      "needs_background": "light"
     },
     "output_type": "display_data"
    }
   ],
   "source": [
    "`"
   ]
  },
  {
   "cell_type": "markdown",
   "metadata": {},
   "source": [
    "Monthly health expenditures have a positively skewed distribution with a really long tail of outliers. From the first figure we can see that even with a thousand bins, we find that the a single bin captures almost 0.6 of the observations. It just doesn't let us visualize the distribution the data very well. Truncating the data at 800 is one way of skirting around this outlier problem.\n",
    "\n",
    "## (b)"
   ]
  },
  {
   "cell_type": "code",
   "execution_count": 668,
   "metadata": {},
   "outputs": [],
   "source": [
    "import math \n",
    "import scipy.optimize as opt\n",
    "\n",
    "initial_beta0 = np.var(df[\"x\"])/np.mean(df[\"x\"])\n",
    "initial_alpha0 = np.mean(df[\"x\"])/initial_beta0\n",
    "\n",
    "def crit_ga(params, *args):\n",
    "    beta_value, alpha_value = params\n",
    "    df = list(args)[0]\n",
    "    df[\"pdf_values\"] = 1/(beta_value**(alpha_value) * math.gamma(alpha_value))*df.x**(alpha_value-1)*np.exp(-df.x/beta_value)\n",
    "    df.loc[df[\"pdf_values\"] < 1e-7, \"pdf_values\"] = 1e-7\n",
    "    negloglik = -sum(np.log(df[\"pdf_values\"]))\n",
    "    return negloglik\n",
    "\n",
    "params_init = np.array([initial_beta0, initial_alpha0])\n",
    "mle_args = (df)\n",
    "results_uncstr = opt.minimize(crit_ga, params_init, args=(mle_args),  \n",
    "                              method='TNC',\n",
    "                 bounds=((1e-10, None), (1e-10, None)), tol=1e-12,options={'maxiter':1000}\n",
    "                             )\n",
    "\n",
    "beta_MLE, alpha_MLE = results_uncstr.x"
   ]
  },
  {
   "cell_type": "code",
   "execution_count": 669,
   "metadata": {},
   "outputs": [
    {
     "data": {
      "text/plain": [
       "     fun: 76003.27448839728\n",
       "     jac: array([0.06693881, 0.04656613])\n",
       " message: 'Converged (|f_n-f_(n-1)| ~= 0)'\n",
       "    nfev: 168\n",
       "     nit: 19\n",
       "  status: 1\n",
       " success: True\n",
       "       x: array([551.01795008,   0.7102143 ])"
      ]
     },
     "execution_count": 669,
     "metadata": {},
     "output_type": "execute_result"
    }
   ],
   "source": [
    "results_uncstr"
   ]
  },
  {
   "cell_type": "code",
   "execution_count": 670,
   "metadata": {},
   "outputs": [
    {
     "name": "stdout",
     "output_type": "stream",
     "text": [
      "beta_hat = 551.0179500811464\n",
      "alpha_hat = 0.7102143006296369\n",
      "Maximized log likelihood = -80195.97107411947\n"
     ]
    }
   ],
   "source": [
    "print(\"beta_hat = {}\".format(beta_MLE))\n",
    "print(\"alpha_hat = {}\".format(alpha_MLE))\n",
    "log_like_ga = -1*crit_xy((beta_MLE, alpha_MLE), df.x)\n",
    "print(\"Maximized log likelihood = {}\".format(log_like_ga))"
   ]
  },
  {
   "cell_type": "code",
   "execution_count": 671,
   "metadata": {},
   "outputs": [],
   "source": [
    "def ga_pdf_plotting(x_values, beta_value, alpha_value):\n",
    "    df = pd.DataFrame({'x':x_values})\n",
    "    df[\"pdf_values\"] = 1/(beta_value**(alpha_value) * math.gamma(alpha_value))*x_values**(alpha_value-1)*np.exp(-x_values/beta_value)\n",
    "    df.loc[df[\"pdf_values\"] < 1e-8, \"pdf_values\"] = 1e-8\n",
    "    return df[\"pdf_values\"].tolist()"
   ]
  },
  {
   "cell_type": "code",
   "execution_count": 672,
   "metadata": {},
   "outputs": [
    {
     "name": "stderr",
     "output_type": "stream",
     "text": [
      "/Users/xiangyu/anaconda3/lib/python3.6/site-packages/ipykernel_launcher.py:3: RuntimeWarning: divide by zero encountered in power\n",
      "  This is separate from the ipykernel package so we can avoid doing imports until\n"
     ]
    },
    {
     "data": {
      "text/plain": [
       "<matplotlib.legend.Legend at 0x12e6f98d0>"
      ]
     },
     "execution_count": 672,
     "metadata": {},
     "output_type": "execute_result"
    },
    {
     "data": {
      "image/png": "[encoded data removed]",
      "text/plain": [
       "<Figure size 432x288 with 1 Axes>"
      ]
     },
     "metadata": {
      "needs_background": "light"
     },
     "output_type": "display_data"
    }
   ],
   "source": [
    "# Plot histogram\n",
    "df2 = df.loc[df[\"x\"]<= 800,:]\n",
    "num_bins = 100\n",
    "count, bins, ignored = plt.hist(df2.x, num_bins, density=True)\n",
    "plt.title('Histogram of Monthly Health Expenditures < 800', fontsize=17)\n",
    "plt.xlabel(r'Monthly health expenditures')\n",
    "plt.ylabel(r'Number of observations')\n",
    "dist_pts = np.linspace(0, 800, 100)\n",
    "plt.plot(dist_pts, ga_pdf_plotting(dist_pts, beta_MLE, alpha_MLE),\n",
    "         linewidth=2, color='k', label='GA(MLE)')\n",
    "plt.legend(loc='upper left')"
   ]
  },
  {
   "cell_type": "markdown",
   "metadata": {},
   "source": [
    "## (c):"
   ]
  },
  {
   "cell_type": "code",
   "execution_count": 673,
   "metadata": {},
   "outputs": [],
   "source": [
    "def gg_pdf(df, beta_v, alpha_v, m_v):\n",
    "    df[\"pdf_values\"] = m_v/(beta_v**alpha_v*math.gamma(alpha_v/m_v))*df.x**(alpha_v-1)*np.exp(-1*(df.x/beta_v)**m_v)\n",
    "    df.loc[df[\"pdf_values\"] < 1e-7, \"pdf_values\"] = 1e-7\n",
    "    return df[\"pdf_values\"]\n",
    "\n",
    "def crit_gg(params, *args):\n",
    "    beta_value, alpha_value, m_value = params\n",
    "    df = list(args)[0]\n",
    "    df_loglik = np.log(gg_pdf(df, beta_value, alpha_value, m_value))\n",
    "    negloglik = -sum(df_loglik)\n",
    "    return negloglik    "
   ]
  },
  {
   "cell_type": "code",
   "execution_count": 674,
   "metadata": {},
   "outputs": [],
   "source": [
    "params_init = np.array([beta_MLE, alpha_MLE, 1])\n",
    "mle_args = (df)\n",
    "results_uncstr_gg = opt.minimize(crit_gg, params_init, args=(mle_args),  \n",
    "                                 method='TNC',\n",
    "                 bounds=((0.01, None), (0.010, None), (0.01, None)), tol=1e-3, \n",
    "                                 options={'maxiter':1000})"
   ]
  },
  {
   "cell_type": "code",
   "execution_count": 675,
   "metadata": {},
   "outputs": [
    {
     "data": {
      "text/plain": [
       "     fun: 75870.65476733548\n",
       "     jac: array([  1.03900675,  13.08799256, -10.46719262])\n",
       " message: 'Converged (|f_n-f_(n-1)| ~= 0)'\n",
       "    nfev: 47\n",
       "     nit: 5\n",
       "  status: 1\n",
       " success: True\n",
       "       x: array([550.42120955,   0.66531823,   0.82996082])"
      ]
     },
     "execution_count": 675,
     "metadata": {},
     "output_type": "execute_result"
    }
   ],
   "source": [
    "results_uncstr_gg"
   ]
  },
  {
   "cell_type": "code",
   "execution_count": 676,
   "metadata": {},
   "outputs": [],
   "source": [
    "beta_MLE_gg, alpha_MLE_gg, m_MLE_gg = results_uncstr_gg.x"
   ]
  },
  {
   "cell_type": "code",
   "execution_count": 677,
   "metadata": {},
   "outputs": [
    {
     "name": "stdout",
     "output_type": "stream",
     "text": [
      "beta_hat using the GG distr. = 550.4212095517073\n",
      "alpha_hat using the GG distr. = 0.6653182311482059\n",
      "m_hat using the GG distr. = 0.8299608225897052\n",
      "Maximized log likelihood = -75870.65476733548\n"
     ]
    }
   ],
   "source": [
    "print(\"beta_hat using the GG distr. = {}\".format(beta_MLE_gg))\n",
    "print(\"alpha_hat using the GG distr. = {}\".format(alpha_MLE_gg))\n",
    "print(\"m_hat using the GG distr. = {}\".format(m_MLE_gg))\n",
    "log_lik_gg = sum(np.log(gg_pdf(df, beta_MLE_gg, alpha_MLE_gg, m_MLE_gg)))\n",
    "print(\"Maximized log likelihood = {}\".format(log_lik_gg))"
   ]
  },
  {
   "cell_type": "code",
   "execution_count": 678,
   "metadata": {},
   "outputs": [],
   "source": [
    "def gg_pdf_plotting(df, beta_v, alpha_v, m_v):\n",
    "    df = pd.DataFrame({'x':df})\n",
    "    df[\"pdf_values\"] = m_v/(beta_v**alpha_v*math.gamma(alpha_v/m_v))*df.x**(alpha_v-1)*np.exp(-1*(df.x/beta_v)**m_v)\n",
    "    df.loc[df[\"pdf_values\"] < 1e-8, \"pdf_values\"] = 1e-8\n",
    "    return df[\"pdf_values\"].tolist()\n",
    "\n"
   ]
  },
  {
   "cell_type": "code",
   "execution_count": 679,
   "metadata": {},
   "outputs": [
    {
     "name": "stderr",
     "output_type": "stream",
     "text": [
      "/Users/xiangyu/anaconda3/lib/python3.6/site-packages/ipykernel_launcher.py:3: RuntimeWarning: divide by zero encountered in power\n",
      "  This is separate from the ipykernel package so we can avoid doing imports until\n"
     ]
    },
    {
     "data": {
      "text/plain": [
       "<matplotlib.legend.Legend at 0x12ea5ff28>"
      ]
     },
     "execution_count": 679,
     "metadata": {},
     "output_type": "execute_result"
    },
    {
     "data": {
      "image/png": "[encoded data removed]",
      "text/plain": [
       "<Figure size 432x288 with 1 Axes>"
      ]
     },
     "metadata": {
      "needs_background": "light"
     },
     "output_type": "display_data"
    }
   ],
   "source": [
    "# Plot histogram\n",
    "df2 = df.loc[df[\"x\"]<= 800,:]\n",
    "num_bins = 100\n",
    "count, bins, ignored = plt.hist(df2.x, num_bins, density=True)\n",
    "plt.title('Histogram of Monthly Health Expenditures < 800', fontsize=17)\n",
    "plt.xlabel(r'Monthly health expenditures')\n",
    "plt.ylabel(r'Number of observations')\n",
    "dist_pts = np.linspace(0, 800, 100)\n",
    "plt.plot(dist_pts, ga_pdf_plotting(dist_pts, beta_MLE, alpha_MLE),\n",
    "         linewidth=2, color='k', label='GA(MLE)')\n",
    "plt.legend(loc='upper left')\n",
    "plt.plot(dist_pts, gg_pdf_plotting(dist_pts, beta_MLE_gg, alpha_MLE_gg, m_MLE_gg),\n",
    "         linewidth=2, color='r', label='GG(MLE)')\n",
    "plt.legend(loc='upper left')"
   ]
  },
  {
   "cell_type": "markdown",
   "metadata": {},
   "source": [
    "## (d)"
   ]
  },
  {
   "cell_type": "code",
   "execution_count": 680,
   "metadata": {},
   "outputs": [],
   "source": [
    "from scipy.special import beta"
   ]
  },
  {
   "cell_type": "code",
   "execution_count": 681,
   "metadata": {},
   "outputs": [],
   "source": [
    "df = pd.read_csv(\"clms.txt\", header=None)\n",
    "df[\"x\"] = df[0]"
   ]
  },
  {
   "cell_type": "code",
   "execution_count": 687,
   "metadata": {},
   "outputs": [],
   "source": [
    "def gb2_pdf(df, a_value, b_value, p_value, q_value):\n",
    "    df[\"pdf_values\"] = a_value*df.x**(a_value*p_value-1)/b_value**(a_value*p_value)/beta(p_value, q_value)/(1+(df.x/b_value)**a_value)**(p_value+ q_value)\n",
    "    df.loc[df[\"pdf_values\"] < 1e-12, \"pdf_values\"] = 1e-12\n",
    "    return df[\"pdf_values\"]\n",
    "\n",
    "def crit_gb2(params, *args):\n",
    "    a_value, b_value, p_value, q_value = params\n",
    "    df = list(args)[0]\n",
    "    df_loglik = np.log(gb2_pdf(df, a_value, b_value, p_value, q_value))\n",
    "    negloglik = -sum(df_loglik)\n",
    "    return negloglik"
   ]
  },
  {
   "cell_type": "code",
   "execution_count": 688,
   "metadata": {},
   "outputs": [],
   "source": [
    "q_value_init =10000\n",
    "a_value_init = m_MLE_gg\n",
    "b_value_init = q_value_init**(1/m_MLE_gg)*beta_MLE_gg\n",
    "p_value_init = alpha_MLE_gg/m_MLE_gg\n",
    "params_init =  np.array([a_value_init, b_value_init, p_value_init, q_value_init])\n",
    "mle_args = (df)"
   ]
  },
  {
   "cell_type": "code",
   "execution_count": 689,
   "metadata": {},
   "outputs": [],
   "source": [
    "results_uncstr_gb2 = opt.minimize(crit_gb2, params_init, args=(mle_args),  \n",
    "                                  method='TNC',\n",
    "                 bounds=((1e-8, None), (1e-8, None), (1e-8, None), (1e-8, None)), tol=1e-10, options={'maxiter':3000})"
   ]
  },
  {
   "cell_type": "code",
   "execution_count": 690,
   "metadata": {},
   "outputs": [
    {
     "data": {
      "text/plain": [
       "     fun: 76717.34962536838\n",
       "     jac: array([2.01150106e+03, 1.45519152e-03, 5.59962064e+02, 4.71307430e+01])\n",
       " message: 'Converged (|x_n-x_(n-1)| ~= 0)'\n",
       "    nfev: 127\n",
       "     nit: 5\n",
       "  status: 2\n",
       " success: True\n",
       "       x: array([8.37046411e-01, 3.63245094e+07, 8.01353570e-01, 9.87142069e+03])"
      ]
     },
     "execution_count": 690,
     "metadata": {},
     "output_type": "execute_result"
    }
   ],
   "source": [
    "results_uncstr_gb2"
   ]
  },
  {
   "cell_type": "code",
   "execution_count": 691,
   "metadata": {},
   "outputs": [],
   "source": [
    "a_MLE_gb2, b_MLE_gb2, p_MLE_gb2, q_MLE_gb2 = results_uncstr_gb2.x"
   ]
  },
  {
   "cell_type": "code",
   "execution_count": 697,
   "metadata": {},
   "outputs": [
    {
     "name": "stdout",
     "output_type": "stream",
     "text": [
      "a_hat using the GB2 distr. = 0.8370464113216801\n",
      "b_hat using the GB2 distr. = 36324509.41502439\n",
      "p_hat using the GB2 distr. = 0.8013535696450651\n",
      "q_hat using the GB2 distr. = 9871.420693943379\n",
      "Maximized log likelihood = -76717.34962536838\n"
     ]
    }
   ],
   "source": [
    "print(\"a_hat using the GB2 distr. = {}\".format(a_MLE_gb2))\n",
    "print(\"b_hat using the GB2 distr. = {}\".format(b_MLE_gb2))\n",
    "print(\"p_hat using the GB2 distr. = {}\".format(p_MLE_gb2))\n",
    "print(\"q_hat using the GB2 distr. = {}\".format(q_MLE_gb2))\n",
    "loglik_gb2 = sum(np.log(gb2_pdf(df, a_MLE_gb2, b_MLE_gb2, p_MLE_gb2, q_MLE_gb2)))\n",
    "print(\"Maximized log likelihood = {}\".format(loglik_gb2))"
   ]
  },
  {
   "cell_type": "code",
   "execution_count": 693,
   "metadata": {},
   "outputs": [],
   "source": [
    "def gb2_pdf_plotting(df, a_value, b_value, p_value, q_value):\n",
    "    df = pd.DataFrame({'x':df})\n",
    "    df[\"pdf_values\"] = a_value*df.x**(a_value*p_value-1)/b_value**(a_value*p_value)/beta(p_value, q_value)/(1+(df.x/b_value)**a_value)**(p_value+ q_value)\n",
    "    df.loc[df[\"pdf_values\"] < 1e-8, \"pdf_values\"] = 1e-8\n",
    "    return df[\"pdf_values\"].tolist()"
   ]
  },
  {
   "cell_type": "code",
   "execution_count": 694,
   "metadata": {},
   "outputs": [
    {
     "name": "stderr",
     "output_type": "stream",
     "text": [
      "/Users/xiangyu/anaconda3/lib/python3.6/site-packages/ipykernel_launcher.py:3: RuntimeWarning: divide by zero encountered in power\n",
      "  This is separate from the ipykernel package so we can avoid doing imports until\n"
     ]
    },
    {
     "data": {
      "text/plain": [
       "<matplotlib.legend.Legend at 0x12c75c860>"
      ]
     },
     "execution_count": 694,
     "metadata": {},
     "output_type": "execute_result"
    },
    {
     "data": {
      "image/png": "[encoded data removed]",
      "text/plain": [
       "<Figure size 432x288 with 1 Axes>"
      ]
     },
     "metadata": {
      "needs_background": "light"
     },
     "output_type": "display_data"
    }
   ],
   "source": [
    "# Plot histogram\n",
    "df2 = df.loc[df[\"x\"]<= 800,:]\n",
    "num_bins = 100\n",
    "count, bins, ignored = plt.hist(df2.x, num_bins, density=True)\n",
    "plt.title('Histogram of Monthly Health Expenditures < 800', fontsize=17)\n",
    "plt.xlabel(r'Monthly health expenditures')\n",
    "plt.ylabel(r'Number of observations')\n",
    "dist_pts = np.linspace(0, 800, 100)\n",
    "plt.plot(dist_pts, ga_pdf_plotting(dist_pts, beta_MLE, alpha_MLE),\n",
    "         linewidth=2, color='k', label='GA(MLE)')\n",
    "plt.legend(loc='upper left')\n",
    "plt.plot(dist_pts, gg_pdf_plotting(dist_pts, beta_MLE_gg, alpha_MLE_gg, m_MLE_gg),\n",
    "         linewidth=2, color='r', label='GG(MLE)')\n",
    "plt.legend(loc='upper left')\n",
    "plt.plot(dist_pts, gb2_pdf_plotting(dist_pts, a_MLE_gb2, b_MLE_gb2, p_MLE_gb2, q_MLE_gb2),\n",
    "         linewidth=2, color='y', label='GB2(MLE)')\n",
    "plt.legend(loc='upper left')\n"
   ]
  },
  {
   "cell_type": "markdown",
   "metadata": {},
   "source": [
    "## (e)"
   ]
  },
  {
   "cell_type": "code",
   "execution_count": 568,
   "metadata": {},
   "outputs": [],
   "source": [
    "import scipy.stats as sts"
   ]
  },
  {
   "cell_type": "code",
   "execution_count": 701,
   "metadata": {},
   "outputs": [
    {
     "data": {
      "text/plain": [
       "-846.6948580329044"
      ]
     },
     "execution_count": 701,
     "metadata": {},
     "output_type": "execute_result"
    }
   ],
   "source": [
    "loglik_gb2 - log_lik_gg"
   ]
  },
  {
   "cell_type": "code",
   "execution_count": 700,
   "metadata": {},
   "outputs": [
    {
     "name": "stdout",
     "output_type": "stream",
     "text": [
      "Comparing GB2 & GG:\n",
      "likelihood ratio value -1693.389716065809\n",
      "chi squared of H0 with 4 degrees of freedom p-value =  1.0\n"
     ]
    }
   ],
   "source": [
    "print(\"Comparing GB2 & GG:\")\n",
    "LR_val = 2 * (loglik_gb2 - log_lik_gg)\n",
    "print('likelihood ratio value', LR_val)\n",
    "pval_h0 = 1.0 - sts.chi2.cdf(LR_val, 4)\n",
    "print('chi squared of H0 with 4 degrees of freedom p-value = ', pval_h0)"
   ]
  },
  {
   "cell_type": "code",
   "execution_count": 702,
   "metadata": {},
   "outputs": [
    {
     "name": "stdout",
     "output_type": "stream",
     "text": [
      "Comparing GB2 & GA:\n",
      "\n",
      "likelihood ratio value 6957.242897502176\n",
      "chi squared of H0 with 4 degrees of freedom p-value =  0.0\n"
     ]
    }
   ],
   "source": [
    "print(\"Comparing GB2 & GA:\")\n",
    "LR_val = 2 * (loglik_gb2 - log_like_ga)\n",
    "print('\\nlikelihood ratio value', LR_val)\n",
    "pval_h0 = 1.0 - sts.chi2.cdf(LR_val, 4)\n",
    "print('chi squared of H0 with 4 degrees of freedom p-value = ', pval_h0)"
   ]
  },
  {
   "cell_type": "markdown",
   "metadata": {},
   "source": [
    "## (f)"
   ]
  },
  {
   "cell_type": "code",
   "execution_count": 720,
   "metadata": {},
   "outputs": [
    {
     "name": "stdout",
     "output_type": "stream",
     "text": [
      "Prob. of monthly claim in excess of $1,000, using GB2 distribution: 0.16162202428429007\n",
      "Prob. of monthly claim in excess of $1,000, using GA distribution: 0.09583397300435043\n"
     ]
    }
   ],
   "source": [
    "from scipy import integrate\n",
    "\n",
    "def prob_gb2(x_value):\n",
    "    a_value = 0.8370464113216801\n",
    "    b_value = 36324509.41502439\n",
    "    p_value = 0.8013535696450651\n",
    "    q_value = 9871.420693943379\n",
    "    prob = a_value*x_value**(a_value*p_value-1)/b_value**(a_value*p_value)/beta(p_value, q_value)/(1+(x_value/b_value)**a_value)**(p_value + q_value)\n",
    "    if prob < 1e-15:\n",
    "        prob = 1e-15\n",
    "    return prob\n",
    "\n",
    "def prob_ga(x_value):\n",
    "    alpha_value = 0.7102143006296369\n",
    "    beta_value = 551.0179500811464\n",
    "    prob = 1/(beta_value**(alpha_value) * math.gamma(alpha_value))*x_value**(alpha_value-1)*np.exp(-x_value/beta_value)\n",
    "\n",
    "    if prob < 1e-15:\n",
    "        prob = 1e-15\n",
    "    return prob\n",
    "\n",
    "print(\"Prob. of monthly claim in excess of $1,000, using GB2 distribution: {}\".format(integrate.quad(prob_gb2, 1000, 10e5)[0]))\n",
    "print(\"Prob. of monthly claim in excess of $1,000, using GA distribution: {}\".format(integrate.quad(prob_ga, 1000, 10e5)[0]))\n"
   ]
  },
  {
   "cell_type": "markdown",
   "metadata": {},
   "source": [
    "# 2\n",
    "\n",
    "## (a):"
   ]
  },
  {
   "cell_type": "code",
   "execution_count": 721,
   "metadata": {},
   "outputs": [],
   "source": [
    "mdf = pd.read_csv(\"MacroSeries.txt\", header=None)\n",
    "mdf[\"c\"] = mdf[0]\n",
    "mdf[\"k\"] = mdf[1]\n",
    "mdf[\"w\"] = mdf[2]\n",
    "mdf[\"r\"] = mdf[3]\n",
    "mdf = mdf.loc[:,[\"c\", \"k\", \"w\", \"r\"]]"
   ]
  },
  {
   "cell_type": "code",
   "execution_count": 722,
   "metadata": {},
   "outputs": [],
   "source": [
    "def q2_pdf1(df, alpha_v, rho_v, mu_v, sigma_v):\n",
    "    df[\"prob\"] = np.nan\n",
    "    df[\"z\"] = np.nan\n",
    "    for index, row in df.iterrows():\n",
    "        if index == 0:\n",
    "            prev_z = mu_v\n",
    "            current_z = np.log(row.w/(1-alpha_v)/row.k**alpha_v)\n",
    "            current_mean = (rho_v*prev_z) + (1- rho_v)*mu_v\n",
    "            df.loc[index, \"z\"] = current_z\n",
    "            prob_t = 1/sigma_v/math.sqrt(2*math.pi)*np.exp(-0.5*((current_z- current_mean)/sigma_v)**2)\n",
    "            if prob_t < 1e-8:\n",
    "                prob_t = 1e-8\n",
    "            df.loc[index, \"prob\"] = prob_t\n",
    "            \n",
    "        else:\n",
    "            t_prev = index -1\n",
    "            prev_z = df.loc[t_prev, \"z\"]\n",
    "            current_z = np.log(row.w/(1-alpha_v)/row.k**alpha_v)\n",
    "            current_mean = (rho_v*prev_z) + (1- rho_v)*mu_v\n",
    "            df.loc[index, \"z\"] = current_z\n",
    "            prob_t = 1/sigma_v/math.sqrt(2*math.pi)*np.exp(-0.5*((current_z- current_mean)/sigma_v)**2)\n",
    "            if prob_t < 1e-8:\n",
    "                prob_t = 1e-8\n",
    "            df.loc[index, \"prob\"] = prob_t\n",
    "    return df[\"prob\"]\n",
    "\n",
    "\n",
    "\n",
    "def crit_q2pdf1(params, *args):\n",
    "    alpha_v, rho_v, mu_v, sigma_v = params\n",
    "    df = list(args)[0]\n",
    "    pdf_values = np.log(q2_pdf1(df, alpha_v, rho_v, mu_v, sigma_v))\n",
    "    negloglik = -sum(pdf_values)\n",
    "    return negloglik"
   ]
  },
  {
   "cell_type": "code",
   "execution_count": 731,
   "metadata": {},
   "outputs": [],
   "source": [
    "params_init = np.array([0.5, 0.5, 1, 1])\n",
    "mle_args = (mdf)\n",
    "results_uncstr_q2 = opt.minimize(crit_q2pdf1, params_init, args=(mle_args), \n",
    "                                 #method='TNC',\n",
    "    bounds=((1e-3, 1-1e-3), (1e-3, 1-1e-3), (1e-3, None), (1e-3, None)), tol=1e-9,\n",
    "                                options={'maxiter':1000})\n",
    "\n",
    "alpha_q2MLE, rho_q2MLE, mu_q2MLE, sigma_q2MLE = results_uncstr_q2.x"
   ]
  },
  {
   "cell_type": "code",
   "execution_count": 732,
   "metadata": {},
   "outputs": [
    {
     "data": {
      "text/plain": [
       "      fun: -96.70690806637359\n",
       " hess_inv: <4x4 LbfgsInvHessProduct with dtype=float64>\n",
       "      jac: array([ 5.13011855e-04, -2.13162821e-05,  2.98427949e-05,  7.54596385e-04])\n",
       "  message: b'CONVERGENCE: REL_REDUCTION_OF_F_<=_FACTR*EPSMCH'\n",
       "     nfev: 380\n",
       "      nit: 57\n",
       "   status: 0\n",
       "  success: True\n",
       "        x: array([0.45751101, 0.72049303, 9.52279381, 0.09199626])"
      ]
     },
     "execution_count": 732,
     "metadata": {},
     "output_type": "execute_result"
    }
   ],
   "source": [
    "results_uncstr_q2"
   ]
  },
  {
   "cell_type": "code",
   "execution_count": 733,
   "metadata": {},
   "outputs": [
    {
     "name": "stdout",
     "output_type": "stream",
     "text": [
      "alpha_hat  = 0.4575110124248544\n",
      "rho_hat  = 0.7204930267291412\n",
      "mu_hat  = 9.522793812440955\n",
      "sigma_hat  = 0.0919962631595689\n"
     ]
    }
   ],
   "source": [
    "print(\"alpha_hat  = {}\".format(alpha_q2MLE))\n",
    "print(\"rho_hat  = {}\".format(rho_q2MLE))\n",
    "print(\"mu_hat  = {}\".format(mu_q2MLE))\n",
    "print(\"sigma_hat  = {}\".format(sigma_q2MLE))"
   ]
  },
  {
   "cell_type": "code",
   "execution_count": 734,
   "metadata": {},
   "outputs": [],
   "source": [
    "hess_obj = results_uncstr_q2.hess_inv.todense()"
   ]
  },
  {
   "cell_type": "code",
   "execution_count": 735,
   "metadata": {},
   "outputs": [
    {
     "data": {
      "text/plain": [
       "array([[ 9.43982295e-01, -3.30898281e+00, -1.20810637e+01,\n",
       "        -1.19411380e-01],\n",
       "       [-3.30898281e+00,  1.19936358e+01,  4.21521836e+01,\n",
       "         4.38841291e-01],\n",
       "       [-1.20810637e+01,  4.21521836e+01,  1.54765315e+02,\n",
       "         1.51293911e+00],\n",
       "       [-1.19411380e-01,  4.38841291e-01,  1.51293911e+00,\n",
       "         1.66984681e-02]])"
      ]
     },
     "execution_count": 735,
     "metadata": {},
     "output_type": "execute_result"
    }
   ],
   "source": [
    "hess_obj"
   ]
  },
  {
   "cell_type": "markdown",
   "metadata": {},
   "source": [
    "## (b):"
   ]
  },
  {
   "cell_type": "code",
   "execution_count": 736,
   "metadata": {},
   "outputs": [],
   "source": [
    "def q2_pdf2(df, alpha_v, rho_v, mu_v, sigma_v):\n",
    "    df[\"prob\"] = np.nan\n",
    "    df[\"z\"] = np.nan\n",
    "    for index, row in df.iterrows():\n",
    "        if index == 0:\n",
    "            prev_z = mu_v\n",
    "            current_z = np.log(row.r/alpha_v/row.k**(alpha_v-1))\n",
    "            current_mean = (rho_v*prev_z) + (1- rho_v)*mu_v\n",
    "            df.loc[index, \"z\"] = current_z\n",
    "            prob_t = 1/sigma_v/math.sqrt(2*math.pi)*np.exp(-0.5*((current_z- current_mean)/sigma_v)**2)\n",
    "            if prob_t < 1e-8:\n",
    "                prob_t = 1e-8\n",
    "            df.loc[index, \"prob\"] = prob_t\n",
    "            \n",
    "        else:\n",
    "            t_prev = index -1\n",
    "            prev_z = df.loc[t_prev, \"z\"]\n",
    "            current_z = np.log(row.r/alpha_v/row.k**(alpha_v-1))\n",
    "            current_mean = (rho_v*prev_z) + (1- rho_v)*mu_v\n",
    "            df.loc[index, \"z\"] = current_z\n",
    "            prob_t = 1/sigma_v/math.sqrt(2*math.pi)*np.exp(-0.5*((current_z- current_mean)/sigma_v)**2)\n",
    "            if prob_t < 1e-8:\n",
    "                prob_t = 1e-8\n",
    "            df.loc[index, \"prob\"] = prob_t\n",
    "    return df[\"prob\"]\n",
    "\n",
    "\n",
    "\n",
    "def crit_q2pdf2(params, *args):\n",
    "    alpha_v, rho_v, mu_v, sigma_v = params\n",
    "    df = list(args)[0]\n",
    "    pdf_values = np.log(q2_pdf2(df, alpha_v, rho_v, mu_v, sigma_v))\n",
    "    negloglik = -sum(pdf_values)\n",
    "    return negloglik\n"
   ]
  },
  {
   "cell_type": "code",
   "execution_count": 737,
   "metadata": {},
   "outputs": [],
   "source": [
    "params_init = np.array([0.5, 0.5, 1, 1])\n",
    "mle_args = (mdf)\n",
    "results_uncstr_q2b = opt.minimize(crit_q2pdf2, params_init, args=(mle_args), \n",
    "                                 #method='TNC',\n",
    "    bounds=((1e-8, 1-1e-8), (1e-8, 1-1e-8), (1e-8, None), (1e-8, None)), tol=1e-9,\n",
    "                                options={'maxiter':1000})"
   ]
  },
  {
   "cell_type": "code",
   "execution_count": 738,
   "metadata": {},
   "outputs": [
    {
     "data": {
      "text/plain": [
       "      fun: -96.65373711220666\n",
       " hess_inv: <4x4 LbfgsInvHessProduct with dtype=float64>\n",
       "      jac: array([-4.19220214e-04, -1.83320026e-04, -9.94759830e-06,  5.40154588e-03])\n",
       "  message: b'CONVERGENCE: REL_REDUCTION_OF_F_<=_FACTR*EPSMCH'\n",
       "     nfev: 455\n",
       "      nit: 52\n",
       "   status: 0\n",
       "  success: True\n",
       "        x: array([0.70192178, 0.47999369, 5.07695211, 0.09204539])"
      ]
     },
     "execution_count": 738,
     "metadata": {},
     "output_type": "execute_result"
    }
   ],
   "source": [
    "results_uncstr_q2b"
   ]
  },
  {
   "cell_type": "code",
   "execution_count": 739,
   "metadata": {},
   "outputs": [],
   "source": [
    "alpha_q2bMLE, rho_q2bMLE, mu_q2bMLE, sigma_q2bMLE = results_uncstr_q2b.x"
   ]
  },
  {
   "cell_type": "code",
   "execution_count": 740,
   "metadata": {},
   "outputs": [
    {
     "name": "stdout",
     "output_type": "stream",
     "text": [
      "alpha_hat = 0.7019217797921393\n",
      "rho_hat  = 0.47999369164194444\n",
      "mu_hat  = 5.076952109164341\n",
      "sigma_hat  = 0.09204538791645664\n"
     ]
    }
   ],
   "source": [
    "print(\"alpha_hat = {}\".format(alpha_q2bMLE))\n",
    "print(\"rho_hat  = {}\".format(rho_q2bMLE))\n",
    "print(\"mu_hat  = {}\".format(mu_q2bMLE))\n",
    "print(\"sigma_hat  = {}\".format(sigma_q2bMLE))"
   ]
  },
  {
   "cell_type": "code",
   "execution_count": 741,
   "metadata": {},
   "outputs": [
    {
     "data": {
      "text/plain": [
       "array([[1., 0., 0., 0.],\n",
       "       [0., 1., 0., 0.],\n",
       "       [0., 0., 1., 0.],\n",
       "       [0., 0., 0., 1.]])"
      ]
     },
     "execution_count": 741,
     "metadata": {},
     "output_type": "execute_result"
    }
   ],
   "source": [
    "results_uncstr_q2b.hess_inv.todense()"
   ]
  },
  {
   "cell_type": "markdown",
   "metadata": {},
   "source": [
    "## (c)\n",
    "\n",
    "$$P(z_t > \\ln \\frac{1}{\\alpha k_t^{\\alpha-1}}), \\: z_t \\text{ ~ } N(\\rho z_{t-1} + (1-\\rho)\\mu, \\sigma^2)$$"
   ]
  },
  {
   "cell_type": "code",
   "execution_count": 742,
   "metadata": {},
   "outputs": [],
   "source": [
    "rhs_term = np.log(1/alpha_q2MLE/7500000**(alpha_q2MLE-1))"
   ]
  },
  {
   "cell_type": "code",
   "execution_count": 744,
   "metadata": {},
   "outputs": [],
   "source": [
    "mu_c = rho_q2MLE*10 + (1-rho_q2MLE)*mu_q2MLE"
   ]
  },
  {
   "cell_type": "code",
   "execution_count": 749,
   "metadata": {},
   "outputs": [
    {
     "name": "stdout",
     "output_type": "stream",
     "text": [
      "Probability = 3.320281781838767e-08\n"
     ]
    }
   ],
   "source": [
    "from scipy.stats import norm\n",
    "print(\"Probability = {}\".format(norm.cdf(rhs_term, loc = mu_c, scale = sigma_q2MLE)))"
   ]
  }
 ],
 "metadata": {
  "kernelspec": {
   "display_name": "Python 3",
   "language": "python",
   "name": "python3"
  },
  "language_info": {
   "codemirror_mode": {
    "name": "ipython",
    "version": 3
   },
   "file_extension": ".py",
   "mimetype": "text/x-python",
   "name": "python",
   "nbconvert_exporter": "python",
   "pygments_lexer": "ipython3",
   "version": "3.6.7"
  }
 },
 "nbformat": 4,
 "nbformat_minor": 2
}
