{
 "cells": [
  {
   "cell_type": "code",
   "execution_count": 314,
   "metadata": {},
   "outputs": [],
   "source": [
    "import numpy as np \n",
    "import pandas as pd\n",
    "import matplotlib.pyplot as plt\n",
    "import numpy.linalg as lin\n",
    "import scipy.stats as sts\n",
    "import scipy.integrate as intgr\n",
    "import scipy.optimize as opt\n",
    "import matplotlib\n",
    "from mpl_toolkits.mplot3d import Axes3D\n",
    "from matplotlib import cm"
   ]
  },
  {
   "cell_type": "markdown",
   "metadata": {},
   "source": [
    "# Q1\n",
    "\n",
    "## (a)"
   ]
  },
  {
   "cell_type": "code",
   "execution_count": 231,
   "metadata": {},
   "outputs": [],
   "source": [
    "df = pd.read_csv(\"data/hh_inc_synth.txt\", header=None)\n",
    "df[\"hhi\"] = df[0]/1000\n",
    "# bins\n",
    "q1_bins = [0,\n",
    "4999, 9999, \n",
    "14999, 19999, \n",
    "24999, 29999, \n",
    "34999, 39999, \n",
    "44999, 49999, \n",
    "54999, 59999,\n",
    "64999, 69999, \n",
    "74999, 79999,\n",
    "84999, 89999, \n",
    "94999, 99999, \n",
    "104999, 109999, \n",
    "114999, 119999, \n",
    "124999, 129999, \n",
    "134999, 139999, \n",
    "144999, 149999, \n",
    "154999, 159999, \n",
    "164999, 169999, \n",
    "174999, 179999, \n",
    "184999, 189999, \n",
    "194999, 199999, \n",
    "249999, 350000]\n",
    "q1_bins = [num/1000 for num in q1_bins]\n",
    "hist, bin_edges = np.histogram(df.hhi, q1_bins)"
   ]
  },
  {
   "cell_type": "markdown",
   "metadata": {},
   "source": [
    "## (b)"
   ]
  },
  {
   "cell_type": "code",
   "execution_count": 277,
   "metadata": {},
   "outputs": [],
   "source": [
    "df[\"weight\"] = 1/len(df)\n",
    "df.loc[(df.hhi >= 199.99) & (df.hhi < 249.99), \"weight\"] = df.weight/10\n",
    "df.loc[(df.hhi >= 249.99) & (df.hhi < 350), \"weight\"] = df.weight/20"
   ]
  },
  {
   "cell_type": "code",
   "execution_count": 291,
   "metadata": {},
   "outputs": [
    {
     "data": {
      "image/png": "[encoded data removed]",
      "text/plain": [
       "<Figure size 432x288 with 1 Axes>"
      ]
     },
     "metadata": {
      "needs_background": "light"
     },
     "output_type": "display_data"
    }
   ],
   "source": [
    "plt.hist(df.hhi, bins = bin_edges, weights = df.weight, edgecolor='k')\n",
    "plt.title('Histogram of household income', fontsize=20)\n",
    "plt.xlabel(r'Household Income ($1,000s)')\n",
    "plt.ylabel(r'%s')\n",
    "plt.show()"
   ]
  },
  {
   "cell_type": "markdown",
   "metadata": {},
   "source": [
    "## (c):"
   ]
  },
  {
   "cell_type": "code",
   "execution_count": 481,
   "metadata": {},
   "outputs": [],
   "source": [
    "def data_moments(df):\n",
    "        q1_bins = [0,\n",
    "        4999, 9999, \n",
    "        14999, 19999, \n",
    "        24999, 29999, \n",
    "        34999, 39999, \n",
    "        44999, 49999, \n",
    "        54999, 59999,\n",
    "        64999, 69999, \n",
    "        74999, 79999,\n",
    "        84999, 89999, \n",
    "        94999, 99999, \n",
    "        104999, 109999, \n",
    "        114999, 119999, \n",
    "        124999, 129999, \n",
    "        134999, 139999, \n",
    "        144999, 149999, \n",
    "        154999, 159999, \n",
    "        164999, 169999, \n",
    "        174999, 179999, \n",
    "        184999, 189999, \n",
    "        194999, 199999, \n",
    "        249999, 350000]\n",
    "        q1_bins = [num/1000 for num in q1_bins]\n",
    "        hist, bin_edges = np.histogram(df, q1_bins)\n",
    "\n",
    "        return hist, bin_edges\n",
    "\n",
    "def lognormal_pdf(x, mu, sigma):\n",
    "    pdf = 1/x/sigma/np.sqrt(2*np.pi)*np.exp(-1*(np.log(x)-mu)**2/2/sigma**2)\n",
    "    return pdf\n",
    "\n",
    "def model_moments(mu, sigma, bin_edges):\n",
    "    total_n = 121085\n",
    "    mmdf = pd.DataFrame({\"left_bound\": bin_edges[:-1],\n",
    "                    \"right_bound\":bin_edges[1:]})\n",
    "    mmdf[\"mid\"] = (mmdf.left_bound + mmdf.right_bound)/2\n",
    "    for index, row in mmdf.iterrows():\n",
    "        fx = lambda x: lognormal_pdf(x, mu, sigma)\n",
    "        (model_cdf, trash) = intgr.quad(fx, row[\"left_bound\"], row[\"right_bound\"], limit = 200)\n",
    "        mmdf.loc[index, \"cdf\"] =  model_cdf\n",
    "    mmdf[\"n\"] = mmdf.cdf*total_n\n",
    "    return mmdf.n\n",
    "\n",
    "def err_vec(xvals, mu, sigma, simple):\n",
    "    data_vec, bin_edges = data_moments(xvals)\n",
    "    model_vec = model_moments(mu, sigma, bin_edges)\n",
    "    if simple:\n",
    "        err_vec = model_vec - data_vec\n",
    "    else:\n",
    "        err_vec = (model_vec - data_vec) / model_vec\n",
    "    \n",
    "    return err_vec\n",
    "\n",
    "def criterion(params, *args):\n",
    "    mu, sigma = params\n",
    "    xvals = args\n",
    "    hist, trash = data_moments(xvals)\n",
    "    W = np.diag(hist)\n",
    "    err = err_vec(xvals, mu, sigma, simple=False)\n",
    "    crit_val = err.T @ W @ err\n",
    "    return crit_val\n"
   ]
  },
  {
   "cell_type": "code",
   "execution_count": 482,
   "metadata": {},
   "outputs": [
    {
     "name": "stderr",
     "output_type": "stream",
     "text": [
      "/Users/xiangyu/anaconda3/lib/python3.6/site-packages/ipykernel_launcher.py:40: IntegrationWarning: The algorithm does not converge.  Roundoff error is detected\n",
      "  in the extrapolation table.  It is assumed that the requested tolerance\n",
      "  cannot be achieved, and that the returned result (if full_output = 1) is \n",
      "  the best which can be obtained.\n"
     ]
    },
    {
     "name": "stdout",
     "output_type": "stream",
     "text": [
      "mu_GMM1= 56.025620666649104  sig_GMM1= 37.28449596144018\n"
     ]
    },
    {
     "data": {
      "text/plain": [
       "      fun: 1.157275714735769e+19\n",
       " hess_inv: <2x2 LbfgsInvHessProduct with dtype=float64>\n",
       "      jac: array([3.95227197e+18, 1.57033452e+18])\n",
       "  message: b'CONVERGENCE: REL_REDUCTION_OF_F_<=_FACTR*EPSMCH'\n",
       "     nfev: 354\n",
       "      nit: 55\n",
       "   status: 0\n",
       "  success: True\n",
       "        x: array([56.02562067, 37.28449596])"
      ]
     },
     "execution_count": 482,
     "metadata": {},
     "output_type": "execute_result"
    }
   ],
   "source": [
    "mu_init = np.mean(df.hhi)\n",
    "sigma_init = 10\n",
    "params_init = np.array([mu_init, sigma_init])\n",
    "gmm_args = (df.hhi)\n",
    "results = opt.minimize(criterion, \n",
    "    params_init, \n",
    "    args=(gmm_args), \n",
    "    tol=1e-10,\n",
    "    method='L-BFGS-B', \n",
    "    bounds=((1e-10, None), (1e-10, None)))\n",
    "mu_GMM1, sig_GMM1 = results.x\n",
    "print('mu_GMM1=', mu_GMM1, ' sig_GMM1=', sig_GMM1)\n",
    "results"
   ]
  },
  {
   "cell_type": "code",
   "execution_count": 483,
   "metadata": {},
   "outputs": [],
   "source": [
    "def create_midpoints(df):\n",
    "    q1_bins = [0,\n",
    "    4999, 9999, \n",
    "    14999, 19999, \n",
    "    24999, 29999, \n",
    "    34999, 39999, \n",
    "    44999, 49999, \n",
    "    54999, 59999,\n",
    "    64999, 69999, \n",
    "    74999, 79999,\n",
    "    84999, 89999, \n",
    "    94999, 99999, \n",
    "    104999, 109999, \n",
    "    114999, 119999, \n",
    "    124999, 129999, \n",
    "    134999, 139999, \n",
    "    144999, 149999, \n",
    "    154999, 159999, \n",
    "    164999, 169999, \n",
    "    174999, 179999, \n",
    "    184999, 189999, \n",
    "    194999, 199999, \n",
    "    249999, 350000]\n",
    "    q1_bins = [num/1000 for num in q1_bins]\n",
    "    hist, bin_edges = np.histogram(df, q1_bins)\n",
    "    mmdf = pd.DataFrame({\"left_bound\": bin_edges[:-1],\n",
    "                    \"right_bound\":bin_edges[1:]})\n",
    "    mmdf[\"mid\"] = (mmdf.left_bound + mmdf.right_bound)/2\n",
    "    \n",
    "    return mmdf[\"mid\"]"
   ]
  },
  {
   "cell_type": "code",
   "execution_count": 441,
   "metadata": {},
   "outputs": [],
   "source": [
    "mid_points = create_midpoints(df.hhi)"
   ]
  },
  {
   "cell_type": "code",
   "execution_count": 484,
   "metadata": {},
   "outputs": [
    {
     "data": {
      "image/png": "[encoded data removed]",
      "text/plain": [
       "<Figure size 432x288 with 1 Axes>"
      ]
     },
     "metadata": {
      "needs_background": "light"
     },
     "output_type": "display_data"
    }
   ],
   "source": [
    "plt.hist(df.hhi, bins = bin_edges, weights = df.weight, edgecolor='k')\n",
    "plt.title('Histogram of household income', fontsize=20)\n",
    "plt.xlabel(r'Household Income ($1,000s)')\n",
    "plt.ylabel(r'%s')\n",
    "plt.plot(mid_points, lognormal_pdf(mid_points, mu_GMM1, sig_GMM1),\n",
    "         linewidth=2, color='k', label='GMM')\n",
    "plt.show()"
   ]
  },
  {
   "cell_type": "code",
   "execution_count": 485,
   "metadata": {},
   "outputs": [
    {
     "data": {
      "text/plain": [
       "0     1.856085e-06\n",
       "1     6.423976e-07\n",
       "2     3.921111e-07\n",
       "3     2.832380e-07\n",
       "4     2.221383e-07\n",
       "5     1.829565e-07\n",
       "6     1.556614e-07\n",
       "7     1.355402e-07\n",
       "8     1.200842e-07\n",
       "9     1.078337e-07\n",
       "10    9.788170e-08\n",
       "11    8.963433e-08\n",
       "12    8.268648e-08\n",
       "13    7.675220e-08\n",
       "14    7.162389e-08\n",
       "15    6.714710e-08\n",
       "16    6.320457e-08\n",
       "17    5.970564e-08\n",
       "18    5.657910e-08\n",
       "19    5.376824e-08\n",
       "20    5.122734e-08\n",
       "21    4.891912e-08\n",
       "22    4.681287e-08\n",
       "23    4.488307e-08\n",
       "24    4.310835e-08\n",
       "25    4.147063e-08\n",
       "26    3.995459e-08\n",
       "27    3.854707e-08\n",
       "28    3.723677e-08\n",
       "29    3.601391e-08\n",
       "30    3.486999e-08\n",
       "31    3.379755e-08\n",
       "32    3.279007e-08\n",
       "33    3.184179e-08\n",
       "34    3.094762e-08\n",
       "35    3.010304e-08\n",
       "36    2.930400e-08\n",
       "37    2.854691e-08\n",
       "38    2.782854e-08\n",
       "39    2.714596e-08\n",
       "40    2.392610e-08\n",
       "41    1.810701e-08\n",
       "Name: mid, dtype: float64"
      ]
     },
     "execution_count": 485,
     "metadata": {},
     "output_type": "execute_result"
    }
   ],
   "source": [
    "lognormal_pdf(mid_points*1000, mu_GMM1, sig_GMM1)"
   ]
  },
  {
   "cell_type": "code",
   "execution_count": 438,
   "metadata": {},
   "outputs": [
    {
     "data": {
      "text/plain": [
       "121085"
      ]
     },
     "execution_count": 438,
     "metadata": {},
     "output_type": "execute_result"
    }
   ],
   "source": [
    "len(df)"
   ]
  },
  {
   "cell_type": "code",
   "execution_count": 486,
   "metadata": {},
   "outputs": [
    {
     "data": {
      "image/png": "[encoded data removed]",
      "text/plain": [
       "<Figure size 432x288 with 1 Axes>"
      ]
     },
     "metadata": {
      "needs_background": "light"
     },
     "output_type": "display_data"
    }
   ],
   "source": [
    "plt.plot(mid_points, lognormal_pdf(mid_points, mu_GMM1, sig_GMM1),\n",
    "         linewidth=2, color='k', label='GMM')\n",
    "plt.show()"
   ]
  },
  {
   "cell_type": "code",
   "execution_count": 462,
   "metadata": {},
   "outputs": [],
   "source": [
    "xvals = df.hhi"
   ]
  },
  {
   "cell_type": "code",
   "execution_count": 463,
   "metadata": {},
   "outputs": [],
   "source": [
    "data_vec, bin_edges = data_moments(xvals)"
   ]
  },
  {
   "cell_type": "code",
   "execution_count": 464,
   "metadata": {},
   "outputs": [
    {
     "name": "stderr",
     "output_type": "stream",
     "text": [
      "/Users/xiangyu/anaconda3/lib/python3.6/site-packages/ipykernel_launcher.py:40: IntegrationWarning: The algorithm does not converge.  Roundoff error is detected\n",
      "  in the extrapolation table.  It is assumed that the requested tolerance\n",
      "  cannot be achieved, and that the returned result (if full_output = 1) is \n",
      "  the best which can be obtained.\n"
     ]
    }
   ],
   "source": [
    "model_vec = model_moments(mu, sigma, bin_edges)"
   ]
  },
  {
   "cell_type": "code",
   "execution_count": 466,
   "metadata": {},
   "outputs": [],
   "source": [
    "mmdf = pd.DataFrame({\"left_bound\": bin_edges[:-1],\n",
    "                    \"right_bound\":bin_edges[1:]})"
   ]
  },
  {
   "cell_type": "code",
   "execution_count": 467,
   "metadata": {},
   "outputs": [],
   "source": [
    "mmdf[\"mid\"] = (mmdf.left_bound + mmdf.right_bound)/2"
   ]
  },
  {
   "cell_type": "code",
   "execution_count": 468,
   "metadata": {},
   "outputs": [],
   "source": [
    "fx = lambda x: lognormal_pdf(x, mu, sigma)"
   ]
  },
  {
   "cell_type": "code",
   "execution_count": 469,
   "metadata": {},
   "outputs": [],
   "source": [
    "mu = mu_GMM1\n",
    "sigma = sig_GMM1"
   ]
  },
  {
   "cell_type": "code",
   "execution_count": 478,
   "metadata": {},
   "outputs": [
    {
     "name": "stderr",
     "output_type": "stream",
     "text": [
      "/Users/xiangyu/anaconda3/lib/python3.6/site-packages/ipykernel_launcher.py:2: IntegrationWarning: The algorithm does not converge.  Roundoff error is detected\n",
      "  in the extrapolation table.  It is assumed that the requested tolerance\n",
      "  cannot be achieved, and that the returned result (if full_output = 1) is \n",
      "  the best which can be obtained.\n",
      "  \n"
     ]
    }
   ],
   "source": [
    "for index, row in mmdf.iterrows():\n",
    "    (model_cdf, trash) = intgr.quad(fx, row[\"left_bound\"], row[\"right_bound\"], limit = 500)\n",
    "    mmdf.loc[index, \"cdf\"] =  model_cdf"
   ]
  },
  {
   "cell_type": "code",
   "execution_count": 479,
   "metadata": {},
   "outputs": [
    {
     "data": {
      "text/plain": [
       "0.24527358971298452"
      ]
     },
     "execution_count": 479,
     "metadata": {},
     "output_type": "execute_result"
    }
   ],
   "source": [
    "sum(mmdf.cdf)"
   ]
  },
  {
   "cell_type": "code",
   "execution_count": 480,
   "metadata": {},
   "outputs": [
    {
     "data": {
      "text/plain": [
       "(0.002195805424363319, 2.4378337397249695e-17)"
      ]
     },
     "execution_count": 480,
     "metadata": {},
     "output_type": "execute_result"
    }
   ],
   "source": [
    "intgr.quad(fx, row[\"left_bound\"], row[\"right_bound\"])"
   ]
  },
  {
   "cell_type": "code",
   "execution_count": null,
   "metadata": {},
   "outputs": [],
   "source": []
  },
  {
   "cell_type": "code",
   "execution_count": null,
   "metadata": {},
   "outputs": [],
   "source": [
    "(model_cdf, trash) = intgr.quad(fx, row[\"left_bound\"], row[\"right_bound\"], limit = 200)\n",
    "mmdf.loc[index, \"cdf\"] =  model_cdf"
   ]
  },
  {
   "cell_type": "code",
   "execution_count": 492,
   "metadata": {},
   "outputs": [],
   "source": [
    "err_vec = (model_vec - data_vec)/model_vec"
   ]
  },
  {
   "cell_type": "code",
   "execution_count": 493,
   "metadata": {},
   "outputs": [],
   "source": [
    "W = np.diag(hist)"
   ]
  },
  {
   "cell_type": "code",
   "execution_count": 494,
   "metadata": {},
   "outputs": [
    {
     "data": {
      "text/plain": [
       "866141707.623024"
      ]
     },
     "execution_count": 494,
     "metadata": {},
     "output_type": "execute_result"
    }
   ],
   "source": [
    "err_vec.T @ W @ err_vec"
   ]
  },
  {
   "cell_type": "code",
   "execution_count": null,
   "metadata": {},
   "outputs": [],
   "source": []
  }
 ],
 "metadata": {
  "kernelspec": {
   "display_name": "Python 3",
   "language": "python",
   "name": "python3"
  },
  "language_info": {
   "codemirror_mode": {
    "name": "ipython",
    "version": 3
   },
   "file_extension": ".py",
   "mimetype": "text/x-python",
   "name": "python",
   "nbconvert_exporter": "python",
   "pygments_lexer": "ipython3",
   "version": "3.6.7"
  }
 },
 "nbformat": 4,
 "nbformat_minor": 2
}
