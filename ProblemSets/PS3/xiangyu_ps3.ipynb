{
 "cells": [
  {
   "cell_type": "code",
   "execution_count": 1,
   "metadata": {},
   "outputs": [],
   "source": [
    "import numpy as np \n",
    "import pandas as pd\n",
    "import matplotlib.pyplot as plt\n",
    "import numpy.linalg as lin\n",
    "import scipy.stats as sts\n",
    "import scipy.integrate as intgr\n",
    "import scipy.optimize as opt\n",
    "import matplotlib\n",
    "from mpl_toolkits.mplot3d import Axes3D\n",
    "from matplotlib import cm\n",
    "import math"
   ]
  },
  {
   "cell_type": "markdown",
   "metadata": {},
   "source": [
    "# Q1\n",
    "\n",
    "## (a)"
   ]
  },
  {
   "cell_type": "code",
   "execution_count": 45,
   "metadata": {},
   "outputs": [],
   "source": [
    "df = pd.read_csv(\"data/hh_inc_synth.txt\", header=None)\n",
    "df[\"hhi\"] = df[0]/1000\n",
    "# bins\n",
    "q1_bins = [0,\n",
    "4999, 9999, \n",
    "14999, 19999, \n",
    "24999, 29999, \n",
    "34999, 39999, \n",
    "44999, 49999, \n",
    "54999, 59999,\n",
    "64999, 69999, \n",
    "74999, 79999,\n",
    "84999, 89999, \n",
    "94999, 99999, \n",
    "104999, 109999, \n",
    "114999, 119999, \n",
    "124999, 129999, \n",
    "134999, 139999, \n",
    "144999, 149999, \n",
    "154999, 159999, \n",
    "164999, 169999, \n",
    "174999, 179999, \n",
    "184999, 189999, \n",
    "194999, 199999, \n",
    "249999, 350000]\n",
    "q1_bins = [num/1000 for num in q1_bins]\n",
    "hist, bin_edges = np.histogram(df.hhi, q1_bins)"
   ]
  },
  {
   "cell_type": "markdown",
   "metadata": {},
   "source": [
    "## (b)"
   ]
  },
  {
   "cell_type": "code",
   "execution_count": 107,
   "metadata": {},
   "outputs": [],
   "source": [
    "df[\"weight\"] = 1/len(df)/5\n",
    "df.loc[(df.hhi >= 199.99) & (df.hhi < 249.99), \"weight\"] = df.weight/10\n",
    "df.loc[(df.hhi >= 249.99), \"weight\"] = df.weight/20"
   ]
  },
  {
   "cell_type": "code",
   "execution_count": 112,
   "metadata": {},
   "outputs": [
    {
     "data": {
      "image/png": "[encoded data removed]",
      "text/plain": [
       "<Figure size 432x288 with 1 Axes>"
      ]
     },
     "metadata": {
      "needs_background": "light"
     },
     "output_type": "display_data"
    }
   ],
   "source": [
    "plt.hist(df.hhi, bins = bin_edges, weights = df.weight, edgecolor='k')\n",
    "plt.title('Histogram of household income', fontsize=20)\n",
    "plt.xlabel(r'Household Income ($1,000s)')\n",
    "plt.ylabel(r'%s')\n",
    "plt.show()"
   ]
  },
  {
   "cell_type": "markdown",
   "metadata": {},
   "source": [
    "## (c):"
   ]
  },
  {
   "cell_type": "code",
   "execution_count": 368,
   "metadata": {},
   "outputs": [],
   "source": [
    "def data_moments(df):\n",
    "    q1_bins = [0,\n",
    "    4999, 9999, \n",
    "    14999, 19999, \n",
    "    24999, 29999, \n",
    "    34999, 39999, \n",
    "    44999, 49999, \n",
    "    54999, 59999,\n",
    "    64999, 69999, \n",
    "    74999, 79999,\n",
    "    84999, 89999, \n",
    "    94999, 99999, \n",
    "    104999, 109999, \n",
    "    114999, 119999, \n",
    "    124999, 129999, \n",
    "    134999, 139999, \n",
    "    144999, 149999, \n",
    "    154999, 159999, \n",
    "    164999, 169999, \n",
    "    174999, 179999, \n",
    "    184999, 189999, \n",
    "    194999, 199999, \n",
    "    249999, 350000]\n",
    "    q1_bins = [num/1000 for num in q1_bins]\n",
    "    hist, bin_edges = np.histogram(df, q1_bins)\n",
    "    '''\n",
    "    for index, row in data_moments.iterrows():\n",
    "        if index == len(data_moments-1):\n",
    "            break\n",
    "        else:\n",
    "            lv = bin_edges[index]\n",
    "            rv = bin_edges[index+1]\n",
    "            data_moments.loc[index, \"lower_bound\"] = lv\n",
    "            data_moments.loc[index, \"upper_bound\"] = rv\n",
    "\n",
    "            data_moments.loc[index, \"mid_pt\"] = (rv + lv)/2\n",
    "    '''\n",
    "    return hist/len(df), bin_edges\n",
    "        \n",
    "\n",
    "\n",
    "def create_midpoints(df):\n",
    "    q1_bins = [0,\n",
    "    4999, 9999, \n",
    "    14999, 19999, \n",
    "    24999, 29999, \n",
    "    34999, 39999, \n",
    "    44999, 49999, \n",
    "    54999, 59999,\n",
    "    64999, 69999, \n",
    "    74999, 79999,\n",
    "    84999, 89999, \n",
    "    94999, 99999, \n",
    "    104999, 109999, \n",
    "    114999, 119999, \n",
    "    124999, 129999, \n",
    "    134999, 139999, \n",
    "    144999, 149999, \n",
    "    154999, 159999, \n",
    "    164999, 169999, \n",
    "    174999, 179999, \n",
    "    184999, 189999, \n",
    "    194999, 199999, \n",
    "    249999, 350000]\n",
    "    q1_bins = [num/1000 for num in q1_bins]\n",
    "    hist, bin_edges = np.histogram(df, q1_bins)\n",
    "    mmdf = pd.DataFrame({\"left_bound\": bin_edges[:-1],\n",
    "                    \"right_bound\":bin_edges[1:]})\n",
    "    mmdf[\"mid\"] = (mmdf.left_bound + mmdf.right_bound)/2\n",
    "    \n",
    "    return mmdf[\"mid\"]\n",
    "\n",
    "def lognormal_pdf(x, mu, sigma):\n",
    "    pdf = 1/x/sigma/np.sqrt(2*np.pi)*np.exp(-1*(np.log(x)-mu)**2/2/sigma**2)\n",
    "    return pdf\n",
    "\n",
    "def model_moments(mu, sigma, bin_edges):\n",
    "    total_n = 121085\n",
    "    mmdf = pd.DataFrame({\"left_bound\": bin_edges[:-1],\n",
    "                    \"right_bound\":bin_edges[1:]})\n",
    "    fx = lambda x: lognormal_pdf(x, mu, sigma)\n",
    "    for index, row in mmdf.iterrows():\n",
    "        (model_cdf, trash) = intgr.quad(fx, row[\"left_bound\"], row[\"right_bound\"], limit = 200)\n",
    "        mmdf.loc[index, \"cdf\"] =  model_cdf\n",
    "    return mmdf.cdf\n",
    "\n",
    "def err_vec(xvals, mu, sigma, simple):\n",
    "    data_vec, bin_edges = data_moments(xvals)\n",
    "    model_vec = model_moments(mu, sigma, bin_edges)\n",
    "    if simple:\n",
    "        err_vec = model_vec - data_vec\n",
    "    else:\n",
    "        err_vec = (model_vec - data_vec) / data_vec\n",
    "    \n",
    "    return err_vec\n",
    "\n",
    "def criterion(params, args):\n",
    "    mu, sigma = params\n",
    "    xvals = args[0]\n",
    "    simp = args[1]\n",
    "    hist, trash = data_moments(xvals)\n",
    "    W = np.diag(hist)\n",
    "    err = err_vec(xvals, mu, sigma, simple=simp)\n",
    "    crit_val = err.T @ W @ err\n",
    "    return crit_val"
   ]
  },
  {
   "cell_type": "code",
   "execution_count": 369,
   "metadata": {},
   "outputs": [
    {
     "name": "stdout",
     "output_type": "stream",
     "text": [
      "mu_init is 4.208708399504983 and sigma_init is 1\n",
      "mu_GMM1= 3.893431049548731  sig_GMM1= 0.9757517892222265\n",
      "\n",
      "Value of Minimized Criterion: 0.03552341059092044\n"
     ]
    },
    {
     "data": {
      "text/plain": [
       "      fun: 0.03552341059092044\n",
       " hess_inv: <2x2 LbfgsInvHessProduct with dtype=float64>\n",
       "      jac: array([4.16333634e-09, 9.02056208e-09])\n",
       "  message: b'CONVERGENCE: REL_REDUCTION_OF_F_<=_FACTR*EPSMCH'\n",
       "     nfev: 21\n",
       "      nit: 6\n",
       "   status: 0\n",
       "  success: True\n",
       "        x: array([3.89343105, 0.97575179])"
      ]
     },
     "execution_count": 369,
     "metadata": {},
     "output_type": "execute_result"
    }
   ],
   "source": [
    "mu_init = np.log(np.mean(df.hhi))\n",
    "sigma_init = 1\n",
    "params_init = np.array([mu_init, sigma_init])\n",
    "gmm_args = [df.hhi, False]\n",
    "results_v1 = opt.minimize(criterion, \n",
    "    params_init, \n",
    "    args=(gmm_args), \n",
    "    tol=1e-10,\n",
    "    method='L-BFGS-B', \n",
    "    bounds=((1e-10, None), (None, None)))\n",
    "mu_GMM1_v1, sig_GMM1_v1 = results_v1.x\n",
    "print(\"mu_init is {} and sigma_init is {}\".format(mu_init, sigma_init))\n",
    "print('mu_GMM1=', mu_GMM1_v1, ' sig_GMM1=', sig_GMM1_v1)\n",
    "print(\"\\nValue of Minimized Criterion: {}\".format(criterion((mu_GMM1_v1, sig_GMM1_v1), gmm_args)))\n",
    "results_v1"
   ]
  },
  {
   "cell_type": "code",
   "execution_count": 373,
   "metadata": {},
   "outputs": [
    {
     "name": "stderr",
     "output_type": "stream",
     "text": [
      "/Users/xiangyu/anaconda3/lib/python3.6/site-packages/ipykernel_launcher.py:83: IntegrationWarning: The maximum number of subdivisions (200) has been achieved.\n",
      "  If increasing the limit yields no improvement it is advised to analyze \n",
      "  the integrand in order to determine the difficulties.  If the position of a \n",
      "  local difficulty can be determined (singularity, discontinuity) one will \n",
      "  probably gain from splitting up the interval and calling the integrator \n",
      "  on the subranges.  Perhaps a special-purpose integrator should be used.\n",
      "/Users/xiangyu/anaconda3/lib/python3.6/site-packages/ipykernel_launcher.py:83: IntegrationWarning: The algorithm does not converge.  Roundoff error is detected\n",
      "  in the extrapolation table.  It is assumed that the requested tolerance\n",
      "  cannot be achieved, and that the returned result (if full_output = 1) is \n",
      "  the best which can be obtained.\n"
     ]
    },
    {
     "name": "stdout",
     "output_type": "stream",
     "text": [
      "mu_init is 10 and sigma_init is 1\n",
      "mu_GMM1= 3.8934311554181953  sig_GMM1= 0.9757517945517591\n",
      "\n",
      "Value of Minimized Criterion: 0.03552341059092044\n"
     ]
    },
    {
     "data": {
      "text/plain": [
       "      fun: 0.03552341059093035\n",
       " hess_inv: <2x2 LbfgsInvHessProduct with dtype=float64>\n",
       "      jac: array([1.99840144e-07, 3.74700271e-08])\n",
       "  message: b'CONVERGENCE: REL_REDUCTION_OF_F_<=_FACTR*EPSMCH'\n",
       "     nfev: 165\n",
       "      nit: 15\n",
       "   status: 0\n",
       "  success: True\n",
       "        x: array([3.89343116, 0.97575179])"
      ]
     },
     "execution_count": 373,
     "metadata": {},
     "output_type": "execute_result"
    }
   ],
   "source": [
    "mu_init = 10\n",
    "sigma_init = 1\n",
    "params_init = np.array([mu_init, sigma_init])\n",
    "gmm_args =  [df.hhi, False]\n",
    "results_v2 = opt.minimize(criterion, \n",
    "    params_init, \n",
    "    args=(gmm_args), \n",
    "    tol=1e-10,\n",
    "    method='L-BFGS-B', \n",
    "    bounds=((1e-10, None), (None, None)))\n",
    "mu_GMM1_v2, sig_GMM1_v2 = results_v2.x\n",
    "print(\"mu_init is {} and sigma_init is {}\".format(mu_init, sigma_init))\n",
    "print('mu_GMM1=', mu_GMM1_v2, ' sig_GMM1=', sig_GMM1_v2)\n",
    "print(\"\\nValue of Minimized Criterion: {}\".format(criterion((mu_GMM1_v1, sig_GMM1_v1), gmm_args)))\n",
    "results_v2"
   ]
  },
  {
   "cell_type": "code",
   "execution_count": 374,
   "metadata": {},
   "outputs": [
    {
     "name": "stdout",
     "output_type": "stream",
     "text": [
      "mu_init is 1 and sigma_init is 1\n",
      "mu_GMM1= 3.8934310486191603  sig_GMM1= 0.9757517839165524\n",
      "\n",
      "Value of Minimized Criterion: 0.03552341059092044\n"
     ]
    },
    {
     "data": {
      "text/plain": [
       "      fun: 0.035523410590920484\n",
       " hess_inv: <2x2 LbfgsInvHessProduct with dtype=float64>\n",
       "      jac: array([ 6.9388939e-10, -6.9388939e-10])\n",
       "  message: b'CONVERGENCE: REL_REDUCTION_OF_F_<=_FACTR*EPSMCH'\n",
       "     nfev: 36\n",
       "      nit: 11\n",
       "   status: 0\n",
       "  success: True\n",
       "        x: array([3.89343105, 0.97575178])"
      ]
     },
     "execution_count": 374,
     "metadata": {},
     "output_type": "execute_result"
    }
   ],
   "source": [
    "mu_init = 1\n",
    "sigma_init = 1\n",
    "params_init = np.array([mu_init, sigma_init])\n",
    "gmm_args =  [df.hhi, False]\n",
    "results_v3 = opt.minimize(criterion, \n",
    "    params_init, \n",
    "    args=(gmm_args), \n",
    "    tol=1e-10,\n",
    "    method='L-BFGS-B', \n",
    "    bounds=((1e-10, None), (None, None)))\n",
    "mu_GMM1_v3, sig_GMM1_v3 = results_v3.x\n",
    "print(\"mu_init is {} and sigma_init is {}\".format(mu_init, sigma_init))\n",
    "print('mu_GMM1=', mu_GMM1_v3, ' sig_GMM1=', sig_GMM1_v3)\n",
    "print(\"\\nValue of Minimized Criterion: {}\".format(criterion((mu_GMM1_v1, sig_GMM1_v1), gmm_args)))\n",
    "results_v3"
   ]
  },
  {
   "cell_type": "code",
   "execution_count": 375,
   "metadata": {},
   "outputs": [
    {
     "data": {
      "image/png": "[encoded data removed]",
      "text/plain": [
       "<Figure size 432x288 with 1 Axes>"
      ]
     },
     "metadata": {
      "needs_background": "light"
     },
     "output_type": "display_data"
    }
   ],
   "source": [
    "mid_points = create_midpoints(df.hhi)\n",
    "\n",
    "temp_df = pd.DataFrame({\"mpt\": mid_points})\n",
    "temp_df[\"v1\"] = lognormal_pdf(mid_points, mu_GMM1_v1, sig_GMM1_v1)\n",
    "temp_df[\"v2\"] = lognormal_pdf(mid_points, mu_GMM1_v2, sig_GMM1_v2)\n",
    "temp_df[\"v3\"] = lognormal_pdf(mid_points, mu_GMM1_v3, sig_GMM1_v3)\n",
    "temp_df.loc[40, \"v1\"] = temp_df.loc[40, \"v1\"]/10\n",
    "temp_df.loc[41, \"v1\"] = temp_df.loc[41, \"v1\"]/20\n",
    "temp_df.loc[40, \"v2\"] = temp_df.loc[40, \"v2\"]/10\n",
    "temp_df.loc[41, \"v2\"] = temp_df.loc[41, \"v2\"]/20\n",
    "temp_df.loc[40, \"v3\"] = temp_df.loc[40, \"v3\"]/10\n",
    "temp_df.loc[41, \"v3\"] = temp_df.loc[41, \"v3\"]/20\n",
    "\n",
    "plt.hist(df.hhi, bins = bin_edges, weights = df.weight, edgecolor='k')\n",
    "plt.title('Histogram of household income', fontsize=20)\n",
    "plt.xlabel(r'Household Income ($1,000s)')\n",
    "plt.ylabel(r'%s')\n",
    "plt.plot(mid_points, temp_df[\"v1\"],\n",
    "         linewidth=2, color='green', label='GMM_v1')\n",
    "plt.plot(mid_points,  temp_df[\"v2\"],\n",
    "         linewidth=2, color='orange', label='GMM_v2')\n",
    "plt.plot(mid_points,  temp_df[\"v3\"],\n",
    "         linewidth=2, color='red', label='GMM_v3')\n",
    "plt.legend(loc='upper right')\n",
    "plt.show()"
   ]
  },
  {
   "cell_type": "markdown",
   "metadata": {},
   "source": [
    "## (d):"
   ]
  },
  {
   "cell_type": "code",
   "execution_count": 464,
   "metadata": {},
   "outputs": [],
   "source": [
    "def GA_pdf(x, alpha, beta):\n",
    "    # my hw2: \n",
    "    # pdf =  1/(beta**(alpha) * math.gamma(alpha))*x**(alpha-1)*np.exp(-x/beta)\n",
    "    # wiki:\n",
    "    pdf =  beta**alpha*x**(alpha-1)*np.exp(-beta*x)/math.gamma(alpha)\n",
    "    return pdf\n",
    "\n",
    "def GAmodel_moments(alpha, beta, bin_edges):\n",
    "    mmdf = pd.DataFrame({\"left_bound\": bin_edges[:-1],\n",
    "                    \"right_bound\":bin_edges[1:]})\n",
    "    fx = lambda x: GA_pdf(x, alpha, beta)\n",
    "    for index, row in mmdf.iterrows():\n",
    "        (model_cdf, trash) = intgr.quad(fx, row[\"left_bound\"], row[\"right_bound\"], limit = 200)\n",
    "        mmdf.loc[index, \"cdf\"] =  model_cdf\n",
    "    return mmdf.cdf\n",
    "\n",
    "\n",
    "def GAerr_vec(xvals, alpha, beta, simple):\n",
    "    data_vec, bin_edges = data_moments(xvals)\n",
    "    model_vec = GAmodel_moments(alpha, beta, bin_edges).to_numpy()\n",
    "    if simple:\n",
    "        err_vec = model_vec - data_vec\n",
    "    else:\n",
    "        err_vec = (model_vec - data_vec) / data_vec\n",
    "    \n",
    "    return err_vec\n",
    "\n",
    "def GAcriterion(params, args):\n",
    "    alpha, beta = params\n",
    "    xvals = args[0]\n",
    "    simp = args[1]\n",
    "    hist, trash = data_moments(xvals)\n",
    "    W = args[2]\n",
    "    err = GAerr_vec(xvals, alpha, beta, simple=simp)\n",
    "    crit_val = err.T @ W @ err\n",
    "    return crit_val"
   ]
  },
  {
   "cell_type": "code",
   "execution_count": 465,
   "metadata": {},
   "outputs": [
    {
     "name": "stdout",
     "output_type": "stream",
     "text": [
      "\n",
      "alpha_init is 3 and beta_init is 5e-05\n",
      "\n",
      "Value of Minimized Criterion (Initial) : 1.0\n",
      "\n",
      "alpha_GMM1= 1.3670004893121428 beta_GMM1= 0.020805566006977683\n",
      "\n",
      "Value of Minimized Criterion (Final): 27.417038253931022\n"
     ]
    },
    {
     "data": {
      "text/plain": [
       "      fun: 0.014084676380113365\n",
       " hess_inv: <2x2 LbfgsInvHessProduct with dtype=float64>\n",
       "      jac: array([-2.32973363e-07,  1.07466119e-05])\n",
       "  message: b'CONVERGENCE: REL_REDUCTION_OF_F_<=_FACTR*EPSMCH'\n",
       "     nfev: 87\n",
       "      nit: 16\n",
       "   status: 0\n",
       "  success: True\n",
       "        x: array([1.36700049, 0.02080557])"
      ]
     },
     "execution_count": 465,
     "metadata": {},
     "output_type": "execute_result"
    }
   ],
   "source": [
    "hist, bin_edges = data_moments(df.hhi)\n",
    "alpha_init = 3\n",
    "beta_init = 1/20000\n",
    "params_init = np.array([alpha_init, beta_init])\n",
    "gmm_args = [df.hhi, False, np.diag(hist)]\n",
    "ga_results_v1 = opt.minimize(GAcriterion, \n",
    "    params_init, \n",
    "    args=gmm_args, \n",
    "    tol=1e-10,\n",
    "    method='L-BFGS-B', \n",
    "    bounds=((1e-7, None), (1e-7, None)))\n",
    "GA_alpha_GMM1_v1, GA_beta_GMM1_v1 = ga_results_v1.x\n",
    "print(\"\\nalpha_init is {} and beta_init is {}\".format(alpha_init, beta_init))\n",
    "print(\"\\nValue of Minimized Criterion (Initial) : {}\".format(criterion((alpha_init, beta_init), gmm_args)))\n",
    "print('\\nalpha_GMM1=', GA_alpha_GMM1_v1, 'beta_GMM1=', GA_beta_GMM1_v1)\n",
    "print(\"\\nValue of Minimized Criterion (Final): {}\".format(criterion((GA_alpha_GMM1_v1, GA_beta_GMM1_v1), gmm_args)))\n",
    "ga_results_v1"
   ]
  },
  {
   "cell_type": "code",
   "execution_count": 466,
   "metadata": {},
   "outputs": [
    {
     "data": {
      "image/png": "[encoded data removed]",
      "text/plain": [
       "<Figure size 432x288 with 1 Axes>"
      ]
     },
     "metadata": {
      "needs_background": "light"
     },
     "output_type": "display_data"
    }
   ],
   "source": [
    "mid_points = create_midpoints(df.hhi)\n",
    "\n",
    "temp_df = pd.DataFrame({\"mpt\": mid_points})\n",
    "temp_df[\"v1\"] = GA_pdf(mid_points, GA_alpha_GMM1_v1, GA_beta_GMM1_v1)\n",
    "temp_df.loc[40, \"v1\"] = temp_df.loc[40, \"v1\"]/10\n",
    "temp_df.loc[41, \"v1\"] = temp_df.loc[41, \"v1\"]/20\n",
    "\n",
    "plt.hist(df.hhi, bins = bin_edges, weights = df.weight, edgecolor='k')\n",
    "plt.title('Histogram of household income', fontsize=20)\n",
    "plt.xlabel(r'Household Income ($1,000s)')\n",
    "plt.ylabel(r'%s')\n",
    "plt.plot(mid_points, temp_df[\"v1\"],\n",
    "         linewidth=2, color='pink', label='GMM_GA')\n",
    "plt.legend(loc='upper right')\n",
    "plt.show()"
   ]
  },
  {
   "cell_type": "markdown",
   "metadata": {},
   "source": [
    "## (e):"
   ]
  },
  {
   "cell_type": "code",
   "execution_count": 467,
   "metadata": {},
   "outputs": [
    {
     "data": {
      "image/png": "[encoded data removed]",
      "text/plain": [
       "<Figure size 432x288 with 1 Axes>"
      ]
     },
     "metadata": {
      "needs_background": "light"
     },
     "output_type": "display_data"
    }
   ],
   "source": [
    "mid_points = create_midpoints(df.hhi)\n",
    "\n",
    "temp_df = pd.DataFrame({\"mpt\": mid_points})\n",
    "temp_df[\"GA\"] = GA_pdf(mid_points, GA_alpha_GMM1_v1, GA_beta_GMM1_v1)\n",
    "temp_df.loc[40, \"GA\"] = temp_df.loc[40, \"GA\"]/10\n",
    "temp_df.loc[41, \"GA\"] = temp_df.loc[41, \"GA\"]/20\n",
    "\n",
    "temp_df[\"LN\"] = lognormal_pdf(mid_points, mu_GMM1_v1, sig_GMM1_v1)\n",
    "temp_df.loc[40, \"LN\"] = temp_df.loc[40, \"LN\"]/10\n",
    "temp_df.loc[41, \"LN\"] = temp_df.loc[41, \"LN\"]/20\n",
    "\n",
    "plt.hist(df.hhi, bins = bin_edges, weights = df.weight, edgecolor='k')\n",
    "plt.title('Histogram of household income', fontsize=20)\n",
    "plt.xlabel(r'Household Income ($1,000s)')\n",
    "plt.ylabel(r'%s')\n",
    "plt.plot(mid_points, temp_df[\"GA\"],\n",
    "         linewidth=2, color='pink', label='GMM_GA')\n",
    "plt.plot(mid_points, temp_df[\"LN\"],\n",
    "         linewidth=2, color='red', label='GMM_LN')\n",
    "plt.legend(loc='upper right')\n",
    "plt.show()"
   ]
  },
  {
   "cell_type": "markdown",
   "metadata": {},
   "source": [
    "The GA distribution seems to do a slighty better job. Maybe one thing we can do is to compare the sum of squared differences between the data and model moments:"
   ]
  },
  {
   "cell_type": "code",
   "execution_count": 468,
   "metadata": {},
   "outputs": [
    {
     "name": "stdout",
     "output_type": "stream",
     "text": [
      "\n",
      "Sum of Squared differences between data & LN: 0.024292146818871294\n",
      "\n",
      "Sum of Squared differences between data & GA: 0.024254049379389082\n"
     ]
    }
   ],
   "source": [
    "temp_df[\"actual\"] = np.histogram(df.hhi, q1_bins)[0]/len(df)\n",
    "print(\"\\nSum of Squared differences between data & LN: {}\".format(np.sum((temp_df.actual-temp_df.LN)**2)))\n",
    "print(\"\\nSum of Squared differences between data & GA: {}\".format(np.sum((temp_df.actual-temp_df.GA)**2)))"
   ]
  },
  {
   "cell_type": "markdown",
   "metadata": {},
   "source": [
    "GA is slightly better! "
   ]
  },
  {
   "cell_type": "markdown",
   "metadata": {},
   "source": [
    "## (f)"
   ]
  },
  {
   "cell_type": "code",
   "execution_count": 469,
   "metadata": {},
   "outputs": [],
   "source": [
    "def get_errmatrix(xvals, alpha, beta, simple= False):\n",
    "    data_vec, bin_edges = data_moments(xvals)\n",
    "    R = 42\n",
    "    N = len(xvals)\n",
    "    Err_mat = np.zeros((R, N))\n",
    "    model_vec = GAmodel_moments(alpha, beta, bin_edges)\n",
    "    mmdf = pd.DataFrame({\"left_bound\": bin_edges[:-1],\n",
    "                    \"right_bound\":bin_edges[1:]})\n",
    "    if simple:\n",
    "        for index, row in mmdf.iterrows():\n",
    "            lb = row[\"left_bound\"]\n",
    "            rb = row[\"right_bound\"]\n",
    "            pts_in_grp = (lb <= xvals) & (xvals < rb)\n",
    "            Err_mat[index, :] = pts_in_grp- model_vec[index]\n",
    "    else:\n",
    "        for index, row in mmdf.iterrows():\n",
    "            lb = row[\"left_bound\"]\n",
    "            rb = row[\"right_bound\"]\n",
    "            pts_in_grp = (lb <= xvals) & (xvals < rb)\n",
    "            Err_mat[index, :] = (pts_in_grp- model_vec[index])/model_vec[index]\n",
    "    return Err_mat"
   ]
  },
  {
   "cell_type": "code",
   "execution_count": 470,
   "metadata": {},
   "outputs": [],
   "source": [
    "emt = get_errmatrix(df.hhi, GA_alpha_GMM1_v1, GA_beta_GMM1_v1)"
   ]
  },
  {
   "cell_type": "code",
   "execution_count": 472,
   "metadata": {},
   "outputs": [],
   "source": [
    "omega1 = 1/len(df) * emt @ emt.T\n",
    "new_w = lin.pinv(omega1)"
   ]
  },
  {
   "cell_type": "code",
   "execution_count": 473,
   "metadata": {},
   "outputs": [
    {
     "name": "stdout",
     "output_type": "stream",
     "text": [
      "\n",
      "alpha_init is 1.3670004893121428 and beta_init is 0.020805566006977683\n",
      "\n",
      "Value of Minimized Criterion (Initial) : 27.417038253931022\n",
      "\n",
      "alpha_GMM1= 1.096698347779921 beta_GMM1= 0.013781609642212877\n",
      "\n",
      "Value of Minimized Criterion (Final): 27.417038253931032\n"
     ]
    },
    {
     "data": {
      "text/plain": [
       "      fun: 0.07536693526880264\n",
       " hess_inv: <2x2 LbfgsInvHessProduct with dtype=float64>\n",
       "      jac: array([ 9.32323663e-05, -1.19895066e-02])\n",
       "  message: b'CONVERGENCE: REL_REDUCTION_OF_F_<=_FACTR*EPSMCH'\n",
       "     nfev: 96\n",
       "      nit: 17\n",
       "   status: 0\n",
       "  success: True\n",
       "        x: array([1.09669835, 0.01378161])"
      ]
     },
     "execution_count": 473,
     "metadata": {},
     "output_type": "execute_result"
    }
   ],
   "source": [
    "hist, bin_edges = data_moments(df.hhi)\n",
    "alpha_init = GA_alpha_GMM1_v1\n",
    "beta_init = GA_beta_GMM1_v1\n",
    "params_init = np.array([alpha_init, beta_init])\n",
    "gmm_args = [df.hhi, False, new_w]\n",
    "ga_results_v2 = opt.minimize(GAcriterion, \n",
    "    params_init, \n",
    "    args=gmm_args, \n",
    "    tol=1e-10,\n",
    "    method='L-BFGS-B', \n",
    "    bounds=((1e-7, None), (1e-7, None)))\n",
    "GA_alpha_GMM1_v2, GA_beta_GMM1_v2 = ga_results_v2.x\n",
    "print(\"\\nalpha_init is {} and beta_init is {}\".format(alpha_init, beta_init))\n",
    "print(\"\\nValue of Minimized Criterion (Initial) : {}\".format(criterion((alpha_init, beta_init), gmm_args)))\n",
    "print('\\nalpha_GMM1=', GA_alpha_GMM1_v2, 'beta_GMM1=', GA_beta_GMM1_v2)\n",
    "print(\"\\nValue of Minimized Criterion (Final): {}\".format(criterion((GA_alpha_GMM1_v2, GA_beta_GMM1_v2), gmm_args)))\n",
    "ga_results_v2\n"
   ]
  },
  {
   "cell_type": "code",
   "execution_count": 474,
   "metadata": {},
   "outputs": [
    {
     "data": {
      "image/png": "[encoded data removed]",
      "text/plain": [
       "<Figure size 432x288 with 1 Axes>"
      ]
     },
     "metadata": {
      "needs_background": "light"
     },
     "output_type": "display_data"
    }
   ],
   "source": [
    "mid_points = create_midpoints(df.hhi)\n",
    "\n",
    "temp_df = pd.DataFrame({\"mpt\": mid_points})\n",
    "temp_df[\"v1\"] = GA_pdf(mid_points, GA_alpha_GMM1_v1, GA_beta_GMM1_v1)\n",
    "temp_df.loc[40, \"v1\"] = temp_df.loc[40, \"v1\"]/10\n",
    "temp_df.loc[41, \"v1\"] = temp_df.loc[41, \"v1\"]/20\n",
    "temp_df[\"v2\"] = GA_pdf(mid_points, GA_alpha_GMM1_v2, GA_beta_GMM1_v2)\n",
    "temp_df.loc[40, \"v2\"] = temp_df.loc[40, \"v2\"]/10\n",
    "temp_df.loc[41, \"v2\"] = temp_df.loc[41, \"v2\"]/20\n",
    "\n",
    "plt.hist(df.hhi, bins = bin_edges, weights = df.weight, edgecolor='k')\n",
    "plt.title('Histogram of household income', fontsize=20)\n",
    "plt.xlabel(r'Household Income ($1,000s)')\n",
    "plt.ylabel(r'%s')\n",
    "plt.plot(mid_points, temp_df[\"v1\"],\n",
    "         linewidth=2, color='pink', label='GMM_GA')\n",
    "plt.plot(mid_points, temp_df[\"v1\"],\n",
    "         linewidth=2, color='red', label='GMM_GA_2STEP')\n",
    "plt.legend(loc='upper right')\n",
    "plt.show()"
   ]
  },
  {
   "cell_type": "markdown",
   "metadata": {},
   "source": [
    "They do change a bit. Comparing the Sum of Squared Errors per bini as before, I find the following:"
   ]
  },
  {
   "cell_type": "code",
   "execution_count": 476,
   "metadata": {},
   "outputs": [
    {
     "name": "stdout",
     "output_type": "stream",
     "text": [
      "\n",
      "Sum of Squared differences between data & GA: 0.024254049379389082\n",
      "\n",
      "Sum of Squared differences between data & GA_2step: 0.025408666449959285\n"
     ]
    }
   ],
   "source": [
    "temp_df[\"actual\"] = np.histogram(df.hhi, q1_bins)[0]/len(df)\n",
    "print(\"\\nSum of Squared differences between data & GA: {}\".format(np.sum((temp_df.actual-temp_df.v1)**2)))\n",
    "print(\"\\nSum of Squared differences between data & GA_2step: {}\".format(np.sum((temp_df.actual-temp_df.v2)**2)))"
   ]
  },
  {
   "cell_type": "markdown",
   "metadata": {},
   "source": [
    "# 2:"
   ]
  },
  {
   "cell_type": "code",
   "execution_count": 10,
   "metadata": {},
   "outputs": [],
   "source": [
    "import random"
   ]
  },
  {
   "cell_type": "code",
   "execution_count": 2,
   "metadata": {},
   "outputs": [],
   "source": [
    "df = pd.read_csv(\"data/MacroSeries.txt\", header=None)\n",
    "df[\"c\"] = df[0]\n",
    "df[\"k\"] = df[1]\n",
    "df[\"w\"] = df[2]\n",
    "df[\"r\"] = df[3]\n",
    "df = df.loc[:,[\"c\", \"k\", \"w\", \"r\"]]"
   ]
  },
  {
   "cell_type": "code",
   "execution_count": 86,
   "metadata": {},
   "outputs": [],
   "source": [
    "def p2_data_moments(df, alpha, rho, mu):\n",
    "    # construct Zs\n",
    "    random.seed(47)\n",
    "    beta = 0.99\n",
    "    for index, row in df.iterrows():\n",
    "        intial_r = df.r[index]\n",
    "        initial_k = df.k[index]\n",
    "        initial_z = np.log(intial_r/alpha/initial_k**(alpha-1))\n",
    "        df.loc[index, \"z\"] = initial_z\n",
    "    \n",
    "    m1 = 0\n",
    "    m2 = 0\n",
    "    m3 = 0\n",
    "    m4 = 0 \n",
    "    counter = 1\n",
    "\n",
    "    for index, row in df.iterrows():\n",
    "        if index < len(df)-1:\n",
    "            # m1\n",
    "            row2 = df.loc[index+1,:]\n",
    "            m1 += row2.z - rho*row.z - (1-rho)*mu\n",
    "\n",
    "            # m2\n",
    "            m2 += (row2.z- rho*row.z - (1-rho)*mu)*row.z\n",
    "            \n",
    "            # m3\n",
    "            m3 +=  beta*alpha*np.exp(row2.z)*row2.k**(alpha-1)*row.c/row2.c-1\n",
    "\n",
    "            # m4\n",
    "            m4 += (beta*alpha*np.exp(row2.z)*row2.k**(alpha-1)*row.c/row2.c-1)*row.w\n",
    "            counter += 1\n",
    "            \n",
    "    return np.array([m1/counter, m2/counter ,m3/counter ,m4/counter])\n",
    "\n",
    "def p2_err_vec(xvals, alpha, rho, mu):\n",
    "    model_vec = np.array([0, 0, 0 ,0])\n",
    "    data_vec = p2_data_moments(xvals, alpha, rho, mu)\n",
    "    err_vec = model_vec - data_vec\n",
    "    return err_vec\n",
    "\n",
    "def p2_criterion(params, args):\n",
    "    alpha, rho, mu = params\n",
    "    xvals  = args[0]\n",
    "    W = args[1]\n",
    "    err = p2_err_vec(xvals, alpha, rho, mu)\n",
    "    crit_val = err.T @ W @ err\n",
    "    return crit_val"
   ]
  },
  {
   "cell_type": "code",
   "execution_count": 100,
   "metadata": {},
   "outputs": [],
   "source": [
    "alpha_init = 0.6\n",
    "rho_init = 0.6\n",
    "mu_init = 2\n",
    "params_init = np.array([alpha_init, rho_init, mu_init])\n",
    "gmm_args = [df, np.eye(4)]\n",
    "results_v1 = opt.minimize(p2_criterion, \n",
    "    params_init, \n",
    "    args=gmm_args, \n",
    "    tol=1e-10,\n",
    "    method='L-BFGS-B', \n",
    "    bounds=((1e-10, 1-1e-10), (-1+1e-10, 1-1e-10), (1e-10, None)))"
   ]
  },
  {
   "cell_type": "code",
   "execution_count": 101,
   "metadata": {},
   "outputs": [
    {
     "name": "stdout",
     "output_type": "stream",
     "text": [
      "\n",
      " alpha_init = 0.6, rho_init = 0.6, and mu_init = 2\n",
      "\n",
      " alpha_GMM = 0.6065708326600074, rho_GMM = 0.6026525357413061, and mu_GMM = 6.731832794974998\n",
      "\n",
      "Value of Minimized Criterion: 8.235559930587744e-10\n"
     ]
    },
    {
     "data": {
      "text/plain": [
       "      fun: 8.235559930587744e-10\n",
       " hess_inv: <3x3 LbfgsInvHessProduct with dtype=float64>\n",
       "      jac: array([2.10125633e-05, 1.07818544e-07, 1.82777993e-08])\n",
       "  message: b'CONVERGENCE: REL_REDUCTION_OF_F_<=_FACTR*EPSMCH'\n",
       "     nfev: 68\n",
       "      nit: 7\n",
       "   status: 0\n",
       "  success: True\n",
       "        x: array([0.60657083, 0.60265254, 6.73183279])"
      ]
     },
     "execution_count": 101,
     "metadata": {},
     "output_type": "execute_result"
    }
   ],
   "source": [
    "alpha_GMM, rho_GMM, mu_GMM = results_v1.x\n",
    "print(\"\\n alpha_init = {}, rho_init = {}, and mu_init = {}\".format(alpha_init, rho_init, mu_init))\n",
    "print(\"\\n alpha_GMM = {}, rho_GMM = {}, and mu_GMM = {}\".format(alpha_GMM, rho_GMM, mu_GMM))\n",
    "print(\"\\nValue of Minimized Criterion: {}\".format(p2_criterion((alpha_GMM, rho_GMM, mu_GMM), gmm_args)))\n",
    "results_v1"
   ]
  },
  {
   "cell_type": "markdown",
   "metadata": {},
   "source": [
    "## (b):"
   ]
  },
  {
   "cell_type": "code",
   "execution_count": 102,
   "metadata": {},
   "outputs": [],
   "source": [
    "def p2_errmatrix(df, alpha, rho, mu):\n",
    "    edf = pd.DataFrame()\n",
    "    beta = 0.99\n",
    "    for index, row in df.iterrows():\n",
    "        intial_r = df.r[index]\n",
    "        initial_k = df.k[index]\n",
    "        initial_z = np.log(intial_r/alpha/initial_k**(alpha-1))\n",
    "        df.loc[index, \"z\"] = initial_z\n",
    "\n",
    "    for i in range(0, len(df)-1):\n",
    "        row = df.loc[i,:]\n",
    "        row2 = df.loc[i+1,:]\n",
    "        edf.loc[\"m1\", i] = row2.z - rho*row.z - (1-rho)*mu\n",
    "        edf.loc[\"m2\", i] = (row2.z- rho*row.z - (1-rho)*mu)*row.z\n",
    "        edf.loc[\"m3\", i] = beta*alpha*np.exp(row2.z)*row2.k**(alpha-1)*row.c/row2.c-1\n",
    "        edf.loc[\"m4\", i] = (beta*alpha*np.exp(row2.z)*row2.k**(alpha-1)*row.c/row2.c-1)*row.w\n",
    "    return np.array(edf)"
   ]
  },
  {
   "cell_type": "code",
   "execution_count": 103,
   "metadata": {},
   "outputs": [],
   "source": [
    "emt = p2_errmatrix(df, alpha_GMM, rho_GMM, mu_GMM)\n",
    "omega1 = 1/(len(df)-2) * emt @ emt.T\n",
    "new_w = lin.pinv(omega1)\n",
    "params_init = np.array([alpha_GMM, rho_GMM, mu_GMM])\n",
    "gmm_args = [df, new_w]\n",
    "ga2step_results = opt.minimize(p2_criterion, \n",
    "    params_init, \n",
    "    args=gmm_args, \n",
    "    tol=1e-10,\n",
    "    method='L-BFGS-B', \n",
    "    bounds=((1e-10, 1-1e-10), (-1+1e-10, 1-1e-10), (1e-10, None)))\n",
    "GA2step_alpha_GMM, GA2step_rho_GMM, GA2step_mu_GMM = ga2step_results.x"
   ]
  },
  {
   "cell_type": "code",
   "execution_count": 104,
   "metadata": {},
   "outputs": [
    {
     "name": "stdout",
     "output_type": "stream",
     "text": [
      "\n",
      " alpha_init = 0.6, rho_init = 0.6, and mu_init = 2\n",
      "\n",
      " alpha_GMM = 0.6065110220840169, rho_GMM = 0.5874133450508694, and mu_GMM = 6.732827263086827\n",
      "\n",
      "Value of Minimized Criterion: 5.429561139233435e-13\n"
     ]
    },
    {
     "data": {
      "text/plain": [
       "      fun: 5.429561139233435e-13\n",
       " hess_inv: <3x3 LbfgsInvHessProduct with dtype=float64>\n",
       "      jac: array([-5.29719306e-05,  6.67114077e-07, -6.39509065e-06])\n",
       "  message: b'CONVERGENCE: REL_REDUCTION_OF_F_<=_FACTR*EPSMCH'\n",
       "     nfev: 72\n",
       "      nit: 13\n",
       "   status: 0\n",
       "  success: True\n",
       "        x: array([0.60651102, 0.58741335, 6.73282726])"
      ]
     },
     "execution_count": 104,
     "metadata": {},
     "output_type": "execute_result"
    }
   ],
   "source": [
    "print(\"\\n alpha_init = {}, rho_init = {}, and mu_init = {}\".format(alpha_init, rho_init, mu_init))\n",
    "print(\"\\n alpha_GMM = {}, rho_GMM = {}, and mu_GMM = {}\".format(GA2step_alpha_GMM, GA2step_rho_GMM, GA2step_mu_GMM))\n",
    "print(\"\\nValue of Minimized Criterion: {}\".format(p2_criterion((GA2step_alpha_GMM, GA2step_rho_GMM, GA2step_mu_GMM), gmm_args)))\n",
    "ga2step_results"
   ]
  },
  {
   "cell_type": "code",
   "execution_count": 105,
   "metadata": {},
   "outputs": [],
   "source": [
    "def p2_jacob(df, alpha, rho, mu):\n",
    "    beta = 0.99\n",
    "    h_alpha = 1e-8 * alpha\n",
    "    h_rho = 1e-8 * rho\n",
    "    h_mu = 1e-8 * mu\n",
    "    evec_alpha = p2_err_vec(df, alpha + h_alpha, rho, mu) - p2_err_vec(df, alpha - h_alpha, rho, mu)\n",
    "    evec_rho = p2_err_vec(df, alpha , rho + h_rho, mu) - p2_err_vec(df, alpha , rho - h_rho, mu)\n",
    "    evec_mu = p2_err_vec(df, alpha, rho, mu + h_mu) - p2_err_vec(df, alpha, rho, mu - h_mu)\n",
    "    jdf = pd.DataFrame({\"1\": evec_alpha,\n",
    "                    \"2\": evec_rho,\n",
    "                    \"3\":evec_mu})\n",
    "    return np.array(jdf)"
   ]
  },
  {
   "cell_type": "code",
   "execution_count": 108,
   "metadata": {},
   "outputs": [],
   "source": [
    "n = len(df)-1\n",
    "d_err = p2_jacob(df, GA2step_alpha_GMM, GA2step_rho_GMM, GA2step_mu_GMM)\n",
    "SigHat2 = (1 / n) * (d_err.T @ new_w @ d_err)"
   ]
  },
  {
   "cell_type": "code",
   "execution_count": 109,
   "metadata": {},
   "outputs": [
    {
     "name": "stdout",
     "output_type": "stream",
     "text": [
      "Std. err. alpha_hat= 9.566071801912388e-08\n",
      "Std. err. rho_hat= 1.4102148324570848e-09\n",
      "Std. err. mu_hat= 6.105196264778493e-08\n"
     ]
    }
   ],
   "source": [
    "print('Std. err. alpha_hat=', np.sqrt(SigHat2[0, 0]))\n",
    "print('Std. err. rho_hat=', np.sqrt(SigHat2[1, 1]))\n",
    "print('Std. err. mu_hat=', np.sqrt(SigHat2[2, 2]))"
   ]
  }
 ],
 "metadata": {
  "kernelspec": {
   "display_name": "Python 3",
   "language": "python",
   "name": "python3"
  },
  "language_info": {
   "codemirror_mode": {
    "name": "ipython",
    "version": 3
   },
   "file_extension": ".py",
   "mimetype": "text/x-python",
   "name": "python",
   "nbconvert_exporter": "python",
   "pygments_lexer": "ipython3",
   "version": "3.6.7"
  }
 },
 "nbformat": 4,
 "nbformat_minor": 2
}
